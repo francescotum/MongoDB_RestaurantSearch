{
 "cells": [
  {
   "cell_type": "code",
   "execution_count": 2,
   "metadata": {},
   "outputs": [],
   "source": [
    "from pymongo import MongoClient\n",
    "\n",
    "client = MongoClient(\"localhost\", 27017)\n",
    "\n",
    "# Assign the database to a variable\n",
    "db = client.NonRelProj \n",
    "\n",
    "# Take the collection \"Reviews\"\n",
    "reviews = db.Reviews\n",
    "\n",
    "# Take the collection \"MetaData\"\n",
    "meta = db.MetaData"
   ]
  },
  {
   "cell_type": "markdown",
   "metadata": {},
   "source": [
    "Given a location and a maximum distance (in meters), the query should return the restaurants within the given max distance.<br>\n",
    "The input location is expressed in terms of **latitute** and **longitude**.<br>\n",
    "This is the basic query: many of the following ones will be extensions of this one to show the variety of filters that may be applied in the restaurant selection."
   ]
  },
  {
   "cell_type": "code",
   "execution_count": 3,
   "metadata": {},
   "outputs": [
    {
     "name": "stdout",
     "output_type": "stream",
     "text": [
      "{'_id': ObjectId('67c751ad8c4ae1c3ac1be454'), 'name': 'Kauai Poke Co.Food Truck', 'distance_meters': 273.82}\n",
      "{'_id': ObjectId('67c751b08c4ae1c3ac1c22cf'), 'name': 'The Fresh Shave', 'distance_meters': 277.07}\n",
      "{'_id': ObjectId('67c751ad8c4ae1c3ac1bec13'), 'name': 'Uncle Bobby’s', 'distance_meters': 288.85}\n",
      "{'_id': ObjectId('67c751b08c4ae1c3ac1c1eb5'), 'name': 'Kalaheo Cafe & Coffee Company', 'distance_meters': 1421.62}\n",
      "{'_id': ObjectId('67c751af8c4ae1c3ac1c1853'), 'name': 'Brick Oven Pizza', 'distance_meters': 1439.32}\n"
     ]
    }
   ],
   "source": [
    "# My coordinates (latitude and longitude) \n",
    "# to be given as input location\n",
    "my_latitude = 21.924238\n",
    "my_longitude = -159.510035\n",
    "\n",
    "# Distance in [meters] within which I am filtering\n",
    "radius = 1500  \n",
    "\n",
    "# Query to find restaurants near you\n",
    "restaurant_close_rating = meta.aggregate([\n",
    "    {\n",
    "        \"$geoNear\": {\n",
    "            # My location\n",
    "            \"near\": {\"type\": \"Point\", \"coordinates\": [\n",
    "                my_longitude, my_latitude]},  \n",
    "            # Field for distance calculation\n",
    "            \"distanceField\": \"distance\",\n",
    "            # Max distance in meters  \n",
    "            \"maxDistance\": radius,\n",
    "            # Use spherical geometry for accurate distances  \n",
    "            \"spherical\": True  \n",
    "        }\n",
    "    },\n",
    "    {   # Create a temporary field for distance in meters\n",
    "        \"$addFields\": {  \n",
    "            \"distance_meters\": {\"$round\": [\"$distance\", 2]}  \n",
    "        }\n",
    "    },\n",
    "    {\n",
    "        \"$project\": {\"_id\":1,\n",
    "                     \"name\":1,\n",
    "                     \"distance_meters\":1}\n",
    "    }\n",
    "])\n",
    "\n",
    "# Convert to list and print\n",
    "results = list(restaurant_close_rating)\n",
    "for business in results:\n",
    "    print(business)"
   ]
  }
 ],
 "metadata": {
  "kernelspec": {
   "display_name": "Python 3",
   "language": "python",
   "name": "python3"
  },
  "language_info": {
   "codemirror_mode": {
    "name": "ipython",
    "version": 3
   },
   "file_extension": ".py",
   "mimetype": "text/x-python",
   "name": "python",
   "nbconvert_exporter": "python",
   "pygments_lexer": "ipython3",
   "version": "3.8.10"
  }
 },
 "nbformat": 4,
 "nbformat_minor": 2
}
