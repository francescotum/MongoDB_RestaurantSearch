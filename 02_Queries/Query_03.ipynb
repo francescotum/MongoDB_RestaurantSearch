{
 "cells": [
  {
   "cell_type": "code",
   "execution_count": 1,
   "metadata": {},
   "outputs": [],
   "source": [
    "from pymongo import MongoClient\n",
    "\n",
    "client = MongoClient(\"localhost\", 27017)\n",
    "\n",
    "# Assign the database to a variable\n",
    "db = client.NonRelProj \n",
    "\n",
    "# Take the collection \"Reviews\"\n",
    "reviews = db.Reviews\n",
    "\n",
    "# Take the collection \"MetaData\"\n",
    "meta = db.MetaData"
   ]
  },
  {
   "cell_type": "markdown",
   "metadata": {},
   "source": [
    "## Trust Index\n",
    "\n",
    "Everyone knows that when looking for restaurants, the average rating alone is not sufficient. In fact, the number of reviews received by a certain restaurant is an indicator used by people to assess whether its rating is trustworthy or not."
   ]
  },
  {
   "cell_type": "markdown",
   "metadata": {},
   "source": [
    "Formula for Trustworthiness Index\n",
    "\n",
    "trust_index = (R * N) / (N + m)\n",
    "\n",
    "Where:\n",
    "\n",
    "R = avg_rating of the business\n",
    "\n",
    "N = num_of_reviews (number of reviews)\n",
    "\n",
    "m = a weighting factor (e.g., the average number of reviews across all businesses)\n",
    "\n",
    "This formula ensures that businesses with very few reviews start closer to the average rating, while those with more reviews gradually reflect their actual rating."
   ]
  },
  {
   "cell_type": "code",
   "execution_count": 2,
   "metadata": {},
   "outputs": [
    {
     "name": "stdout",
     "output_type": "stream",
     "text": [
      "Trustworthiness index added to all documents.\n"
     ]
    }
   ],
   "source": [
    "# Step 1: Calculate the average number of \n",
    "# reviews across all businesses\n",
    "total_reviews = meta.aggregate([\n",
    "    {\"$group\": {\n",
    "        \"_id\": None, \"avg_num_reviews\": {\n",
    "            \"$avg\": \"$num_of_reviews\"}}}\n",
    "])\n",
    "\n",
    "# Get the computed average number of reviews\n",
    "m = list(total_reviews)[0][\"avg_num_reviews\"]  \n",
    "\n",
    "# Step 2: Compute trust_index and update each document\n",
    "for doc in meta.find({}, {\n",
    "    \"_id\": 1, \"avg_rating\": 1, \"num_of_reviews\": 1}):\n",
    "    # Get rating (default to 0 if missing)\n",
    "    R = doc.get(\"avg_rating\", 0)\n",
    "    # Get number of reviews (default to 0)  \n",
    "    N = doc.get(\"num_of_reviews\", 0)  \n",
    "\n",
    "    # Compute the trust_index\n",
    "    trust_index = (R * N) / (N + m) if N > 0 else 0\n",
    "\n",
    "    # Update the document with the new trust_index\n",
    "    meta.update_one({\"_id\": doc[\"_id\"]}, {\n",
    "        \"$set\": {\"trust_index\": trust_index}})\n",
    "\n",
    "print(\"Trustworthiness index added to all documents.\")\n"
   ]
  },
  {
   "cell_type": "markdown",
   "metadata": {},
   "source": [
    "Reduces the impact of few reviews:\n",
    "- If a restaurant has 1 review with 5 stars, its score won't immediately be 5.\n",
    "- It will be closer to the average rating until more reviews confirm its quality.\n",
    "\n",
    "Gives more weight to businesses with many reviews:\n",
    "- A 4.5-star rating with 500 reviews is considered more trustworthy than 4.8 stars with 5 reviews.\n",
    "\n",
    "Automatically adapts to the dataset:\n",
    "- The m factor (average number of reviews) adjusts dynamically based on the dataset.\n",
    "\n",
    "This formula ensures that:\n",
    "- If N is large, the index is close to R (businesses with many reviews get scores that closely match their rating).\n",
    "- If N is small, the index is adjusted towards a neutral value (to avoid giving small-sample ratings too much weight)."
   ]
  },
  {
   "cell_type": "code",
   "execution_count": 3,
   "metadata": {},
   "outputs": [
    {
     "name": "stdout",
     "output_type": "stream",
     "text": [
      "{'_id': ObjectId('67c751b08c4ae1c3ac1c1eb5'), 'name': 'Kalaheo Cafe & Coffee Company', 'avg_rating': 4.7, 'num_of_reviews': 867, 'trust_index': 3.512003604783395}\n",
      "{'_id': ObjectId('67c751af8c4ae1c3ac1c1853'), 'name': 'Brick Oven Pizza', 'avg_rating': 4.3, 'num_of_reviews': 444, 'trust_index': 2.5895257722949645}\n",
      "{'_id': ObjectId('67c751b08c4ae1c3ac1c22cf'), 'name': 'The Fresh Shave', 'avg_rating': 4.8, 'num_of_reviews': 254, 'trust_index': 2.2277532240104776}\n",
      "{'_id': ObjectId('67c751ad8c4ae1c3ac1be454'), 'name': 'Kauai Poke Co.Food Truck', 'avg_rating': 4.8, 'num_of_reviews': 58, 'trust_index': 0.7925350207487906}\n",
      "{'_id': ObjectId('67c751ad8c4ae1c3ac1bec13'), 'name': 'Uncle Bobby’s', 'avg_rating': 5, 'num_of_reviews': 14, 'trust_index': 0.22780685124190772}\n"
     ]
    }
   ],
   "source": [
    "# My coordinates (latitude and longitude) \n",
    "# to be given as input location\n",
    "my_latitude = 21.924238\n",
    "my_longitude = -159.510035\n",
    "\n",
    "# Distance in meters within which I am filtering\n",
    "radius = 1500  \n",
    "\n",
    "# Query to find restaurants \n",
    "# near you, sorted by trust_index\n",
    "restaurant_close_trust = meta.aggregate([\n",
    "    {\n",
    "        \"$geoNear\": {\n",
    "            \"near\": {\n",
    "                \"type\": \"Point\", \"coordinates\": \n",
    "                [my_longitude, my_latitude]}, \n",
    "            # Field for distance calculation\n",
    "            \"distanceField\": \"distance\", \n",
    "            # Max distance in meters \n",
    "            \"maxDistance\": radius,  \n",
    "            # Use spherical geometry for accurate distances\n",
    "            \"spherical\": True  \n",
    "        }\n",
    "    },\n",
    "    {   # Sort by trust_index (descending order)\n",
    "        \"$sort\": {\"trust_index\": -1}  \n",
    "    },\n",
    "    {\n",
    "        \"$project\": {\"_id\":1,\n",
    "                     \"name\":1,\n",
    "                     \"num_of_reviews\":1,\n",
    "                     \"avg_rating\":1,\n",
    "                     \"trust_index\":1\n",
    "                     }\n",
    "    }\n",
    "])\n",
    "\n",
    "# Convert to list and print results\n",
    "results = list(restaurant_close_trust)\n",
    "for business in results:\n",
    "    print(business)\n"
   ]
  }
 ],
 "metadata": {
  "kernelspec": {
   "display_name": "Python 3",
   "language": "python",
   "name": "python3"
  },
  "language_info": {
   "codemirror_mode": {
    "name": "ipython",
    "version": 3
   },
   "file_extension": ".py",
   "mimetype": "text/x-python",
   "name": "python",
   "nbconvert_exporter": "python",
   "pygments_lexer": "ipython3",
   "version": "3.8.10"
  }
 },
 "nbformat": 4,
 "nbformat_minor": 2
}
