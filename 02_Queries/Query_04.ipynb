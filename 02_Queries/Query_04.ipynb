{
 "cells": [
  {
   "cell_type": "code",
   "execution_count": 2,
   "metadata": {},
   "outputs": [],
   "source": [
    "from pymongo import MongoClient\n",
    "\n",
    "\n",
    "client = MongoClient(\"localhost\", 27017)\n",
    "\n",
    "# Assign the database to a variable\n",
    "db = client.NonRelProj \n",
    "\n",
    "# Take the collection \"Reviews\"\n",
    "reviews = db.Reviews\n",
    "\n",
    "# Take the collection \"MetaData\"\n",
    "meta = db.MetaData"
   ]
  },
  {
   "cell_type": "markdown",
   "metadata": {},
   "source": [
    "When searching for restaurants, people often want to see which are the ones open in that moment. This query should therefore return the restaurants close the given location that are also open: this means that the weekday and time at which the search is performed will be provided as inputs too."
   ]
  },
  {
   "cell_type": "code",
   "execution_count": 3,
   "metadata": {},
   "outputs": [
    {
     "name": "stdout",
     "output_type": "stream",
     "text": [
      "15:30\n",
      "01:00\n",
      "00:00\n"
     ]
    }
   ],
   "source": [
    "def seconds_to_hhmm(seconds):\n",
    "    hours = seconds // 3600\n",
    "    minutes = (seconds % 3600) // 60\n",
    "    return f\"{hours:02}:{minutes:02}\"\n",
    "\n",
    "# Example usage\n",
    "print(seconds_to_hhmm(55800))  # Output: \"15:30\"\n",
    "print(seconds_to_hhmm(3600))   # Output: \"01:00\"\n",
    "print(seconds_to_hhmm(0))      # Output: \"00:00\""
   ]
  },
  {
   "cell_type": "code",
   "execution_count": 4,
   "metadata": {},
   "outputs": [
    {
     "name": "stdout",
     "output_type": "stream",
     "text": [
      "84600\n",
      "38700\n",
      "53220\n"
     ]
    }
   ],
   "source": [
    "def time_to_seconds(time_str):\n",
    "    # If it's already an integer, return as is\n",
    "    if isinstance(time_str, int):  \n",
    "        return time_str\n",
    "    \n",
    "    # Handle unexpected types\n",
    "    if not isinstance(time_str, str):  \n",
    "        return None  \n",
    "\n",
    "    # Split the time string by \":\"\n",
    "    time_parts = time_str.split(\":\")\n",
    "    \n",
    "    # Check if the string is correctly \n",
    "    # formatted (should have exactly two parts)\n",
    "    if len(time_parts) == 2:\n",
    "        try:\n",
    "            # Convert hours and minutes to integers\n",
    "            hours = int(time_parts[0])\n",
    "            minutes = int(time_parts[1])\n",
    "            \n",
    "            # Calculate total seconds from midnight\n",
    "            return hours * 3600 + minutes * 60\n",
    "        except ValueError:\n",
    "            # Handle case where hours or \n",
    "            # minutes are not integers\n",
    "            return None  \n",
    "    else:\n",
    "        # Handle invalid time format (not \"HH:MM\")\n",
    "        return None  \n",
    "    \n",
    "\n",
    "print(time_to_seconds(\"23:30\"))  # Should print 84600 \n",
    "print(time_to_seconds(\"10:45\"))  # Should print 38700 \n",
    "print(time_to_seconds(\"14:47\"))  # Should print 53220"
   ]
  },
  {
   "cell_type": "code",
   "execution_count": 5,
   "metadata": {},
   "outputs": [
    {
     "name": "stdout",
     "output_type": "stream",
     "text": [
      "{'_id': ObjectId('67c751ad8c4ae1c3ac1bec13'), 'name': 'Uncle Bobby’s', 'avg_rating': 5, 'num_of_reviews': 14, 'open_time': '11:00', 'close_time': '16:00'}\n",
      "{'_id': ObjectId('67c751ad8c4ae1c3ac1be454'), 'name': 'Kauai Poke Co.Food Truck', 'avg_rating': 4.8, 'num_of_reviews': 58, 'open_time': '11:00', 'close_time': '14:00'}\n",
      "{'_id': ObjectId('67c751b08c4ae1c3ac1c22cf'), 'name': 'The Fresh Shave', 'avg_rating': 4.8, 'num_of_reviews': 254, 'open_time': '12:00', 'close_time': '16:00'}\n",
      "{'_id': ObjectId('67c751b08c4ae1c3ac1c1eb5'), 'name': 'Kalaheo Cafe & Coffee Company', 'avg_rating': 4.7, 'num_of_reviews': 867, 'open_time': '07:00', 'close_time': '14:00'}\n",
      "{'_id': ObjectId('67c751af8c4ae1c3ac1c1853'), 'name': 'Brick Oven Pizza', 'avg_rating': 4.3, 'num_of_reviews': 444, 'open_time': '11:00', 'close_time': '21:00'}\n"
     ]
    }
   ],
   "source": [
    "# Inputs for current time and day\n",
    "my_latitude = 21.924238\n",
    "my_longitude = -159.510035\n",
    "# Max distance from my location in meters\n",
    "max_distance = 1500  \n",
    "# Input weekday\n",
    "current_day = 'Thursday'\n",
    "# Input time  \n",
    "current_time = '13:30'  \n",
    "\n",
    "# Convert current time to seconds from midnight\n",
    "current_time_seconds = time_to_seconds(current_time)\n",
    "\n",
    "# Query to find restaurants near you\n",
    "restaurant_open_rating = meta.aggregate([\n",
    "    {\n",
    "        \"$geoNear\": {\n",
    "            \"near\": {\"type\": \"Point\", \"coordinates\": [\n",
    "                my_longitude, my_latitude]},\n",
    "            \"distanceField\": \"distance\",\n",
    "            \"maxDistance\": max_distance,\n",
    "            \"spherical\": True\n",
    "        }\n",
    "    },\n",
    "    {\n",
    "        \"$match\": {\n",
    "            \"hours\": {\n",
    "                \"$elemMatch\": {\n",
    "                    \"day\": current_day,\n",
    "                    \"open_time\": {\n",
    "                        \"$lte\": current_time_seconds},\n",
    "                    \"close_time\": {\n",
    "                        \"$gte\": current_time_seconds}\n",
    "                }\n",
    "            }\n",
    "        }\n",
    "    },\n",
    "    {\n",
    "        \"$sort\": {\"avg_rating\": -1}\n",
    "    },\n",
    "    {\n",
    "        \"$project\": {\n",
    "            \"_id\": 1,\n",
    "            \"name\": 1,\n",
    "            \"num_of_reviews\": 1,\n",
    "            \"avg_rating\": 1,\n",
    "            \"hours\": {\n",
    "                \"$filter\": {\n",
    "                    \"input\": \"$hours\",\n",
    "                    \"as\": \"h\",\n",
    "                    \"cond\": {\"$eq\": [\"$$h.day\", current_day]}\n",
    "                }\n",
    "            }\n",
    "        }\n",
    "    }\n",
    "])\n",
    "\n",
    "# Convert to list and format output\n",
    "results = list(restaurant_open_rating)\n",
    "for business in results:\n",
    "    if \"hours\" in business and business[\"hours\"]:\n",
    "        open_time_seconds = business[\"hours\"][0][\"open_time\"]\n",
    "        close_time_seconds = business[\"hours\"][0][\"close_time\"]\n",
    "        business[\"open_time\"] = seconds_to_hhmm(\n",
    "            open_time_seconds)\n",
    "        business[\"close_time\"] = seconds_to_hhmm(\n",
    "            close_time_seconds)\n",
    "        # Remove raw hours after processing\n",
    "        del business[\"hours\"]  \n",
    "    \n",
    "    print(business)\n"
   ]
  }
 ],
 "metadata": {
  "kernelspec": {
   "display_name": "Python 3",
   "language": "python",
   "name": "python3"
  },
  "language_info": {
   "codemirror_mode": {
    "name": "ipython",
    "version": 3
   },
   "file_extension": ".py",
   "mimetype": "text/x-python",
   "name": "python",
   "nbconvert_exporter": "python",
   "pygments_lexer": "ipython3",
   "version": "3.8.10"
  }
 },
 "nbformat": 4,
 "nbformat_minor": 2
}
