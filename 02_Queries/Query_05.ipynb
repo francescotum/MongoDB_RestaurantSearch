{
 "cells": [
  {
   "cell_type": "code",
   "execution_count": 1,
   "metadata": {},
   "outputs": [],
   "source": [
    "from pymongo import MongoClient\n",
    "\n",
    "\n",
    "client = MongoClient(\"localhost\", 27017)\n",
    "\n",
    "# Assign the database to a variable\n",
    "db = client.NonRelProj \n",
    "\n",
    "# Take the collection \"Reviews\"\n",
    "reviews = db.Reviews\n",
    "\n",
    "# Take the collection \"MetaData\"\n",
    "meta = db.MetaData"
   ]
  },
  {
   "cell_type": "markdown",
   "metadata": {},
   "source": [
    "Another important element that people might want to understand is whether the restaurant has electronic payment options. Hence, it is first necessary to know which are all the distict payment options among all restaurant and then filter by the electronic ones."
   ]
  },
  {
   "cell_type": "code",
   "execution_count": 2,
   "metadata": {},
   "outputs": [
    {
     "name": "stdout",
     "output_type": "stream",
     "text": [
      "Distinct Payment Methods:\n",
      "Cash only\n",
      "Cash-only\n",
      "Checks\n",
      "Credit cards\n",
      "Debit cards\n",
      "NFC mobile payments\n"
     ]
    }
   ],
   "source": [
    "# Aggregate to unwind the 'Payments' \n",
    "# field and get distinct values\n",
    "distinct_payments = meta.aggregate([\n",
    "    # Unwind the Payments array\n",
    "    {\"$unwind\": \"$MISC.Payments\"},  \n",
    "    # Group by payment method\n",
    "    {\"$group\": {\"_id\": \"$MISC.Payments\"}},  \n",
    "    # Sort alphabetically\n",
    "    {\"$sort\": {\"_id\": 1}}  \n",
    "])\n",
    "\n",
    "# Print the distinct payment methods\n",
    "print(\"Distinct Payment Methods:\")\n",
    "for payment in distinct_payments:\n",
    "    print(payment[\"_id\"])\n"
   ]
  },
  {
   "cell_type": "markdown",
   "metadata": {},
   "source": [
    "Now that the payment options are know it is possible to get only those restaurants having\n",
    "electronic payment options among the possible ones:"
   ]
  },
  {
   "cell_type": "code",
   "execution_count": 3,
   "metadata": {},
   "outputs": [
    {
     "name": "stdout",
     "output_type": "stream",
     "text": [
      "{'_id': ObjectId('67c751b08c4ae1c3ac1c1eb5'), 'name': 'Kalaheo Cafe & Coffee Company', 'avg_rating': 4.7, 'num_of_reviews': 867, 'MISC': {'Payments': ['NFC mobile payments', 'Credit cards']}}\n",
      "{'_id': ObjectId('67c751ad8c4ae1c3ac1be454'), 'name': 'Kauai Poke Co.Food Truck', 'avg_rating': 4.8, 'num_of_reviews': 58, 'MISC': {'Payments': ['Debit cards']}}\n"
     ]
    }
   ],
   "source": [
    "# My coordinates (latitude and longitude)\n",
    "my_latitude = 21.924238\n",
    "my_longitude = -159.510035\n",
    "\n",
    "radius = 1500  # Distance in meters\n",
    "\n",
    "# Define electronic payment options\n",
    "electronic_payments = [\"Credit cards\", \n",
    "                       \"Debit cards\", \n",
    "                       \"NFC mobile payments\"]\n",
    "\n",
    "# Query to find restaurants near \n",
    "# the location with electronic payments\n",
    "restaurant_close_numrev = meta.aggregate([\n",
    "    {\n",
    "        \"$geoNear\": {\n",
    "            \"near\": {\"type\": \"Point\", \"coordinates\": [\n",
    "                my_longitude, my_latitude]},\n",
    "            # Field for distance calculation  \n",
    "            \"distanceField\": \"distance\",\n",
    "            # Max distance in meters  \n",
    "            \"maxDistance\": radius,\n",
    "            # Use spherical geometry for accurate distances  \n",
    "            \"spherical\": True  \n",
    "        }\n",
    "    },\n",
    "    {\n",
    "        \"$match\": {\n",
    "            # Check if any payment method matches\n",
    "            \"MISC.Payments\": {\"$in\": electronic_payments}  \n",
    "        }\n",
    "    },\n",
    "    {   # Sort by number of reviews (descending)\n",
    "        \"$sort\": {\"num_of_reviews\": -1}  \n",
    "    },\n",
    "    {\n",
    "        \"$project\": {\"_id\":1,\n",
    "                     \"name\":1,\n",
    "                     \"num_of_reviews\":1,\n",
    "                     \"avg_rating\":1,\n",
    "                     \"MISC.Payments\":1\n",
    "                     }\n",
    "    }\n",
    "])\n",
    "\n",
    "# Convert to list and print\n",
    "results = list(restaurant_close_numrev)\n",
    "for business in results:\n",
    "    print(business)\n"
   ]
  }
 ],
 "metadata": {
  "kernelspec": {
   "display_name": "Python 3",
   "language": "python",
   "name": "python3"
  },
  "language_info": {
   "codemirror_mode": {
    "name": "ipython",
    "version": 3
   },
   "file_extension": ".py",
   "mimetype": "text/x-python",
   "name": "python",
   "nbconvert_exporter": "python",
   "pygments_lexer": "ipython3",
   "version": "3.8.10"
  }
 },
 "nbformat": 4,
 "nbformat_minor": 2
}
