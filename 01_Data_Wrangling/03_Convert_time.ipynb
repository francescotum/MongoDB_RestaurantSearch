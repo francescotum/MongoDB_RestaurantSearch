{
 "cells": [
  {
   "cell_type": "code",
   "execution_count": null,
   "metadata": {},
   "outputs": [],
   "source": [
    "from pymongo import MongoClient\n",
    "\n",
    "client = MongoClient(\"localhost\", 27017)\n",
    "\n",
    "# Assign the database to a variable\n",
    "db = client.NonRelProj \n",
    "\n",
    "# Take the collection \"Reviews\"\n",
    "reviews = db.Reviews\n",
    "\n",
    "# Take the collection \"MetaData\"\n",
    "meta = db.MetaData"
   ]
  }
 ],
 "metadata": {
  "kernelspec": {
   "display_name": "Python 3",
   "language": "python",
   "name": "python3"
  },
  "language_info": {
   "name": "python",
   "version": "3.8.10"
  }
 },
 "nbformat": 4,
 "nbformat_minor": 2
}
