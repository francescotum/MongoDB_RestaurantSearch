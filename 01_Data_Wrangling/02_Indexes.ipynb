{
 "cells": [
  {
   "cell_type": "code",
   "execution_count": 1,
   "metadata": {},
   "outputs": [],
   "source": [
    "from pymongo import MongoClient\n",
    "\n",
    "client = MongoClient(\"localhost\", 27017)\n",
    "\n",
    "# Assign the database to a variable\n",
    "db = client.NonRelProj \n",
    "\n",
    "# Take the collection \"Reviews\"\n",
    "reviews = db.Reviews\n",
    "\n",
    "# Take the collection \"MetaData\"\n",
    "meta = db.MetaData"
   ]
  },
  {
   "cell_type": "markdown",
   "metadata": {},
   "source": [
    "# Create Indexes"
   ]
  },
  {
   "cell_type": "markdown",
   "metadata": {},
   "source": [
    "Let's create indexes on our data collections for query efficiancy purposes."
   ]
  },
  {
   "cell_type": "markdown",
   "metadata": {},
   "source": [
    "Indexe for reviews:"
   ]
  },
  {
   "cell_type": "code",
   "execution_count": 2,
   "metadata": {},
   "outputs": [
    {
     "data": {
      "text/plain": [
       "'rating_-1_num_of_reviews_-1'"
      ]
     },
     "execution_count": 2,
     "metadata": {},
     "output_type": "execute_result"
    }
   ],
   "source": [
    "# Create index on reviews\n",
    "reviews.create_index(\n",
    "    {'rating':-1,'num_of_reviews':-1}\n",
    ")"
   ]
  },
  {
   "cell_type": "markdown",
   "metadata": {},
   "source": [
    "### Indexes on restaurants' meta data:"
   ]
  },
  {
   "cell_type": "code",
   "execution_count": 3,
   "metadata": {},
   "outputs": [
    {
     "data": {
      "text/plain": [
       "'name_1_avg_rating_-1'"
      ]
     },
     "execution_count": 3,
     "metadata": {},
     "output_type": "execute_result"
    }
   ],
   "source": [
    "# Create index on average rating\n",
    "meta.create_index(\n",
    "    {'name':1, 'avg_rating': -1}\n",
    ")"
   ]
  },
  {
   "cell_type": "markdown",
   "metadata": {},
   "source": [
    "We want to create an index based on restaurants' position to enable queries to filter them based on such data."
   ]
  },
  {
   "cell_type": "code",
   "execution_count": 4,
   "metadata": {},
   "outputs": [
    {
     "data": {
      "text/plain": [
       "UpdateResult({'n': 3725, 'nModified': 3725, 'ok': 1.0, 'updatedExisting': True}, acknowledged=True)"
      ]
     },
     "execution_count": 4,
     "metadata": {},
     "output_type": "execute_result"
    }
   ],
   "source": [
    "# Update the schema to store the location as GeoJSON\n",
    "meta.update_many(\n",
    "    {},\n",
    "    [\n",
    "        { \n",
    "            \"$set\": {\n",
    "                \"location\": {\n",
    "                    \"type\": \"Point\",\n",
    "                    \"coordinates\": [\n",
    "                        { \"$toDouble\": \"$longitude\" },\n",
    "                        { \"$toDouble\": \"$latitude\" }\n",
    "                    ]\n",
    "                }\n",
    "            }\n",
    "        }\n",
    "    ]\n",
    ")"
   ]
  },
  {
   "cell_type": "markdown",
   "metadata": {},
   "source": [
    "Once the location field is set up, create the 2dsphere index"
   ]
  },
  {
   "cell_type": "code",
   "execution_count": 5,
   "metadata": {},
   "outputs": [
    {
     "data": {
      "text/plain": [
       "'location_2dsphere'"
      ]
     },
     "execution_count": 5,
     "metadata": {},
     "output_type": "execute_result"
    }
   ],
   "source": [
    "meta.create_index([(\"location\", \"2dsphere\")])"
   ]
  },
  {
   "cell_type": "code",
   "execution_count": 6,
   "metadata": {},
   "outputs": [
    {
     "name": "stdout",
     "output_type": "stream",
     "text": [
      "{'_id_': {'v': 2, 'key': [('_id', 1)]}, 'name_1_avg_rating_-1': {'v': 2, 'key': [('name', 1), ('avg_rating', -1)]}, 'location_2dsphere': {'v': 2, 'key': [('location', '2dsphere')], '2dsphereIndexVersion': 3}}\n"
     ]
    }
   ],
   "source": [
    "# Check whether the 2dsphere index has been created correctly\n",
    "print(meta.index_information())\n"
   ]
  },
  {
   "cell_type": "code",
   "execution_count": 7,
   "metadata": {},
   "outputs": [
    {
     "name": "stdout",
     "output_type": "stream",
     "text": [
      "{'_id': ObjectId('67c751ac8c4ae1c3ac1bceda'), 'name': 'Hale Pops', 'address': 'Hale Pops, 55-370 Kamehameha Hwy, Laie, HI 96762', 'gmap_id': '0x7c00456eecad3111:0x8217f9600c51f33', 'description': None, 'latitude': 21.637795699999998, 'longitude': -157.9207142, 'category': ['Restaurant'], 'avg_rating': 4.4, 'num_of_reviews': 18, 'price': None, 'hours': [['Thursday', '11AM–8PM'], ['Friday', '11AM–8PM'], ['Saturday', '11AM–8PM'], ['Sunday', 'Closed'], ['Monday', '11AM–8PM'], ['Tuesday', '11AM–8PM'], ['Wednesday', '11AM–8PM']], 'MISC': {'Service options': ['Outdoor seating', 'Takeout', 'Delivery'], 'Popular for': ['Lunch', 'Solo dining'], 'Accessibility': ['Wheelchair accessible entrance'], 'Offerings': ['Comfort food', 'Quick bite'], 'Amenities': ['Good for kids'], 'Atmosphere': ['Casual'], 'Crowd': ['Groups', 'Tourists'], 'Payments': ['NFC mobile payments']}, 'state': 'Closed ⋅ Opens 11AM', 'location': {'type': 'Point', 'coordinates': [-157.9207142, 21.637795699999998]}}\n"
     ]
    }
   ],
   "source": [
    "# Find documents that have the 'location' field\n",
    "documents_with_location = meta.find({\"location\": {\"$exists\": True}})\n",
    "\n",
    "# Print the first 1 documents with 'location' to check the data\n",
    "for doc in documents_with_location.limit(1):\n",
    "    print(doc)"
   ]
  }
 ],
 "metadata": {
  "kernelspec": {
   "display_name": "Python 3",
   "language": "python",
   "name": "python3"
  },
  "language_info": {
   "codemirror_mode": {
    "name": "ipython",
    "version": 3
   },
   "file_extension": ".py",
   "mimetype": "text/x-python",
   "name": "python",
   "nbconvert_exporter": "python",
   "pygments_lexer": "ipython3",
   "version": "3.8.10"
  }
 },
 "nbformat": 4,
 "nbformat_minor": 2
}
