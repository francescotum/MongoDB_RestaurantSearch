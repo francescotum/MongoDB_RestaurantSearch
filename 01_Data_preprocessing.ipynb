{
 "cells": [
  {
   "cell_type": "code",
   "execution_count": 35,
   "metadata": {},
   "outputs": [],
   "source": [
    "from pymongo import MongoClient\n",
    "\n",
    "client = MongoClient(\"localhost\", 27017)"
   ]
  },
  {
   "cell_type": "code",
   "execution_count": 36,
   "metadata": {},
   "outputs": [],
   "source": [
    "# Assign the database to a variable\n",
    "db = client.NonRelProj \n",
    "\n",
    "# Take the collection \"Reviews\"\n",
    "reviews = db.Reviews\n",
    "\n",
    "# Take the collection \"MetaData\"\n",
    "meta = db.MetaData"
   ]
  },
  {
   "cell_type": "markdown",
   "metadata": {},
   "source": [
    "# Data Cleaning"
   ]
  },
  {
   "cell_type": "markdown",
   "metadata": {},
   "source": [
    "Even though we are interested only in restaurants, let's give a look at the categories of the businesses in the dataset."
   ]
  },
  {
   "cell_type": "code",
   "execution_count": 37,
   "metadata": {},
   "outputs": [
    {
     "name": "stdout",
     "output_type": "stream",
     "text": [
      "['ATM', 'ATV dealer', 'ATV rental service', 'ATV repair shop', 'Aboriginal and Torres Strait Islander organisation', 'Aboriginal art gallery', 'Abortion clinic', 'Abrasives supplier', 'Accountant', 'Accounting firm', 'Acupuncture clinic', 'Acupuncturist', 'Acura dealer', 'Addiction treatment center', 'Adoption agency', 'Adult DVD store', 'Adult day care center', 'Adult education school', 'Adult entertainment club', 'Adult entertainment store', 'Adventure sports', 'Adventure sports center', 'Advertising agency', 'Advertising service', 'Aerial photographer', 'Aerial sports center', 'Aerospace company', 'After school program', 'Aged care', 'Aggregate supplier', 'Agricultural cooperative', 'Agricultural organization', 'Agricultural product wholesaler', 'Agricultural production', 'Agricultural service', 'Aikido club', 'Air compressor repair service', 'Air compressor supplier', 'Air conditioning contractor', 'Air conditioning repair service', 'Air conditioning store', 'Air conditioning system supplier', 'Air duct cleaning service', 'Air force base', 'Airbrushing service', 'Aircraft rental service', 'Aircraft supply store', 'Airline', 'Airplane', 'Airport', 'Airport shuttle service', 'Airport terminal', 'Airsoft supply store', 'Airstrip', 'Alcohol manufacturer', 'Alcoholic beverage wholesaler', 'Alcoholism treatment program', 'Allergist', 'Alternative fuel station', 'Alternative medicine practitioner', 'Alternator supplier', 'Ambulance service', 'American restaurant', 'Ammunition supplier', 'Amphitheater', 'Amusement center', 'Amusement park', 'Amusement park ride', 'Angler fish restaurant', 'Animal control service', 'Animal feed store', 'Animal hospital', 'Animal park', 'Animal protection organization', 'Animal rescue service', 'Animal shelter', 'Antique furniture restoration service', 'Antique furniture store', 'Antique store', 'Apartment building', 'Apartment complex', 'Apartment rental agency', 'Apartments', 'Appliance parts supplier', 'Appliance repair service', 'Appliance store', 'Appraiser', 'Aquaculture farm', 'Aquarium', 'Aquatic centre', 'Arboretum', 'Arborist and tree surgeon', 'Archery store', 'Archipelago', 'Architect', 'Architectural designer', 'Architectural salvage store', 'Archive', 'Arena', 'Army & navy surplus shop', 'Army facility', 'Aromatherapy service', 'Aromatherapy supply store', 'Art', 'Art cafe', 'Art center', 'Art dealer', 'Art gallery', 'Art handcraft', 'Art museum', 'Art school', 'Art studio', 'Art supply store', 'Artificial plant supplier', 'Artist', 'Arts organization', 'Asbestos testing service', 'Asian fusion restaurant', 'Asian grocery store', 'Asian household goods store', 'Asian restaurant', 'Asphalt contractor', 'Assemblies of God church', 'Assisted living facility', 'Association or organization', 'Astrologer', 'Athletic club', 'Athletic field', 'Athletic park', 'Atoll', 'Attorney', 'Attorney referral service', 'Attraction', 'Audi dealer', 'Audio visual consultant', 'Audio visual equipment rental service', 'Audio visual equipment repair service', 'Audio visual equipment supplier', 'Audiologist', 'Auditorium', 'Australian restaurant', 'Authentic Japanese restaurant', 'Auto air conditioning service', 'Auto auction', 'Auto body parts supplier', 'Auto body shop', 'Auto bodywork mechanic', 'Auto broker', 'Auto dent removal service', 'Auto electrical service', 'Auto glass shop', 'Auto insurance agency', 'Auto machine shop', 'Auto market', 'Auto painting', 'Auto parts manufacturer', 'Auto parts market', 'Auto parts store', 'Auto radiator repair service', 'Auto repair shop', 'Auto restoration service', 'Auto spring shop', 'Auto sunroof shop', 'Auto tune up service', 'Auto upholsterer', 'Auto wrecker', 'Automobile storage facility', 'Aviation', 'Aviation consultant', 'Aviation training institute', 'Awning supplier', 'Açaí shop', 'BBQ area', 'BMW dealer', 'BMW motorcycle dealer', 'Baby clothing store', 'Baby store', 'Bag shop', 'Bagel shop', 'Bail bonds service', 'Bait shop', 'Bakery', 'Baking supply store', 'Balloon artist', 'Balloon store', 'Ballroom', 'Ballroom dance instructor', 'Bank', 'Bankruptcy attorney', 'Bankruptcy service', 'Banner store', 'Banquet hall', 'Baptist church', 'Bar', 'Bar & grill', 'Bar stool supplier', 'Barbecue restaurant', 'Barber school', 'Barber shop', 'Barber supply store', 'Baseball', 'Baseball club', 'Baseball field', 'Baseball goods store', 'Basketball court', 'Basque restaurant', 'Bathroom remodeler', 'Bathroom supply store', 'Battery store', 'Batting cage center', 'Bay', 'Beach', 'Beach clothing store', 'Beach entertainment shop', 'Beach pavillion', 'Bead store', 'Beautician', 'Beauty', 'Beauty product supplier', 'Beauty products wholesaler', 'Beauty salon', 'Beauty school', 'Beauty supply store', 'Bed & breakfast', 'Bed shop', 'Bedding store', 'Bedroom furniture store', 'Beer distributor', 'Beer garden', 'Beer hall', 'Beer store', 'Beverage distributor', 'Bicycle Shop', 'Bicycle rack', 'Bicycle rental service', 'Bicycle repair shop', 'Bicycle store', 'Bicycle wholesale', 'Bike sharing station', 'Billiards supply store', 'Biofeedback therapist', 'Biotechnology company', 'Bird shop', 'Bistro', 'Blinds shop', 'Blood bank', 'Blood donation center', 'Blueprint service', 'Blues club', 'Boarding house', 'Boarding school', 'Boat builders', 'Boat club', 'Boat cover supplier', 'Boat dealer', 'Boat ramp', 'Boat rental service', 'Boat repair shop', 'Boat storage facility', 'Boat tour agency', 'Boating instructor', 'Body arts', 'Body piercing shop', 'Bonsai plant supplier', 'Book store', 'Bookbinder', 'Bookkeeping service', 'Boot store', 'Border crossing station', 'Botanical garden', 'Bottle & can redemption center', 'Bottled water supplier', 'Bouncy castle hire', 'Boutique', 'Bowling alley', 'Bowling supply shop', 'Box lunch supplier', 'Boxing gym', 'Brake shop', 'Brazilian restaurant', 'Breakfast restaurant', 'Brewery', 'Brewing supply store', 'Brewpub', 'Bridal shop', 'Bridge', 'Brunch restaurant', 'Bubble tea store', 'Buddhist temple', 'Buffet restaurant', 'Buick dealer', 'Building consultant', 'Building inspector', 'Building materials store', 'Building materials supplier', 'Building restoration service', 'Burglar alarm store', 'Burmese restaurant', 'Burrito restaurant', 'Bus charter', 'Bus company', 'Bus station', 'Bus stop', 'Bus ticket agency', 'Bus tour agency', 'Business center', 'Business development service', 'Business management consultant', 'Business networking company', 'Business park', 'Business related', 'Business school', 'Business to business service', 'Butcher shop', 'Butcher shop deli', 'CD store', 'Cabin rental agency', 'Cabinet maker', 'Cabinet store', 'Cable company', 'Cadillac dealer', 'Cafe', 'Cafeteria', 'Cajun restaurant', 'Cake shop', 'Californian restaurant', 'Calvary Chapel church', 'Camera store', 'Camp', 'Campground', 'Camping cabin', 'Camping farm', 'Camping store', 'Canadian restaurant', 'Canal', 'Cancer treatment center', 'Candle store', 'Candy store', 'Cannabis store', 'Canoe & kayak rental service', 'Canoe & kayak store', 'Canoe & kayak tour agency', 'Canoe and kayak club', 'Canoeing area', 'Cantonese restaurant', 'Car accessories store', 'Car alarm supplier', 'Car battery store', 'Car dealer', 'Car detailing service', 'Car finance and loan company', 'Car inspection station', 'Car leasing service', 'Car manufacturer', 'Car racing track', 'Car rental', 'Car rental agency', 'Car repair and maintenance', 'Car security system installer', 'Car sharing location', 'Car stereo store', 'Car wash', 'Cardiologist', 'Caribbean restaurant', 'Carpet cleaning service', 'Carpet installer', 'Carpet store', 'Carport and pergola builder', 'Cars', 'Castle', 'Cat boarding service', 'Caterer', 'Catering', 'Catering food and drink supplier', 'Cathedral', 'Catholic cathedral', 'Catholic church', 'Catholic school', 'Cattery', 'Cattle farm', 'Cave', 'Cell phone accessory store', 'Cell phone charging station', 'Cell phone store', 'Cemetery', 'Ceramics wholesaler', 'Certified public accountant', 'Chamber of Commerce', 'Channel', 'Chapel', 'Charcuterie', 'Charity', 'Charter school', 'Chauffeur service', 'Check cashing service', 'Cheese shop', 'Cheesesteak restaurant', 'Chevrolet dealer', 'Chicken restaurant', 'Chicken shop', 'Chicken wings restaurant', 'Child care agency', 'Child psychologist', 'Children hall', \"Children's amusement center\", \"Children's clothing store\", \"Children's furniture store\", \"Children's hospital\", \"Children's museum\", \"Children's party service\", 'Childrens book store', 'Childrens cafe', 'Childrens party buffet', 'Childrens store', 'Chinaware store', 'Chinese bakery', 'Chinese medicine clinic', 'Chinese noodle restaurant', 'Chinese restaurant', 'Chinese takeaway', 'Chinese tea house', 'Chiropractor', 'Chocolate artisan', 'Chocolate cafe', 'Chocolate factory', 'Chocolate shop', 'Christian book store', 'Christian church', 'Christmas store', 'Christmas tree farm', 'Chrysler dealer', 'Church', 'Church of Christ', 'Church of Jesus Christ of Latter-day Saints', 'Cider bar', 'Cigar shop', 'City Hall', 'City courthouse', 'City government office', 'City park', 'City tax office', 'Civic center', 'Civil engineer', 'Civil engineering company', 'Civil law attorney', 'Class', 'Cleaners', 'Cleaning products supplier', 'Cleaning service', 'Cliff', 'Clock repair service', 'Closed circuit television', 'Clothes and fabric wholesaler', 'Clothes market', 'Clothing', 'Clothing alteration service', 'Clothing store', 'Clothing supplier', 'Clothing wholesaler', 'Club', 'Coaching center', 'Coast guard station', 'Cocktail bar', 'Coffee', 'Coffee machine supplier', 'Coffee roasters', 'Coffee shop', 'Coffee stand', 'Coffee store', 'Coffee wholesaler', 'Coin dealer', 'Coin operated laundry equipment supplier', 'Cold noodle restaurant', 'Cold storage facility', 'Collectibles store', 'College', 'Colombian restaurant', 'Comedy club', 'Comic book store', 'Commercial cleaning service', 'Commercial photographer', 'Commercial printer', 'Commercial real estate agency', 'Commercial real estate inspector', 'Commercial refrigerator supplier', 'Community center', 'Community college', 'Community garden', 'Community service', 'Computer accessories store', 'Computer consultant', 'Computer repair service', 'Computer security service', 'Computer service', 'Computer software store', 'Computer store', 'Computer support and services', 'Computer training school', 'Concert hall', 'Concrete contractor', 'Concrete metal framework supplier', 'Concrete product supplier', 'Condominium complex', 'Condominium rental agency', 'Confectionery', 'Conference center', 'Consignment shop', 'Construction', 'Construction and maintenance office', 'Construction company', 'Construction equipment supplier', 'Construction machine dealer', 'Construction machine rental service', 'Construction material wholesaler', 'Consultant', 'Contact lenses supplier', 'Container supplier', 'Container terminal', 'Contractor', 'Convenience store', 'Convention center', 'Conveyor belt sushi restaurant', 'Cookie shop', 'Cooking class', 'Copier repair service', 'Copy shop', 'Corporate campus', 'Corporate entertainment service', 'Corporate gift supplier', 'Corporate office', 'Cosmetic dentist', 'Cosmetics and perfumes supplier', 'Cosmetics store', 'Costume jewelry shop', 'Costume rental service', 'Costume store', 'Cottage', 'Cottage rental', 'Cottage village', 'Counselor', 'Countertop contractor', 'Countertop store', 'Country club', 'Country park', 'County court', 'County government office', 'Courier service', 'Courthouse', 'Coworking space', 'Crab house', 'Craft store', 'Crane rental agency', 'Crane service', 'Crater', 'Credit counseling service', 'Credit union', 'Cremation service', 'Creole restaurant', 'Criminal justice attorney', 'Crop grower', 'Cruise agency', 'Cruise line company', 'Cruise terminal', 'Crêperie', 'Cuban restaurant', 'Culinary school', 'Cultural association', 'Cultural center', 'Cupcake shop', 'Currency exchange service', 'Curtain store', 'Custom home builder', 'Custom label printer', 'Custom t-shirt store', 'Custom tailor', 'Customs broker', 'Cutlery store', 'DJ service', 'DVD store', 'Dairy', 'Dairy farm', 'Dance club', 'Dance company', 'Dance hall', 'Dance restaurant', 'Dance school', 'Dance store', 'Dart bar', 'Dart supply store', 'Data recovery service', 'Day care center', 'Day spa', 'Debris removal service', 'Decal supplier', 'Deli', 'Delivery Chinese restaurant', 'Delivery Restaurant', 'Delivery service', 'Demolition contractor', 'Dental clinic', 'Dental hygienist', 'Dental implants periodontist', 'Dental implants provider', 'Dental insurance agency', 'Dental laboratory', 'Dentist', 'Denture care center', 'Department of Transportation', 'Department of finance', 'Department of motor vehicles', 'Department store', 'Dermatologist', 'Design agency', 'Design engineer', 'Desktop publishing service', 'Dessert restaurant', 'Dessert shop', 'Diagnostic center', 'Dialysis center', 'Diamond buyer', 'Diamond dealer', 'Diesel engine dealer', 'Diesel engine repair service', 'Diesel fuel supplier', 'Dietitian', 'Digital printer', 'Digital printing service', 'Dim sum restaurant', 'Diner', 'Dinner theater', 'Dirt supplier', 'Disability services & support organisation', 'Disc golf course', 'Disciples of Christ Church', 'Discount store', 'Display home centre', 'Display stand manufacturer', 'Distillery', 'Distribution service', 'District court', 'Dive club', 'Dive shop', 'Diving center', 'Divorce lawyer', 'Do-it-yourself shop', 'Doctor', 'Dodge dealer', 'Dog breeder', 'Dog day care center', 'Dog park', 'Dog trainer', 'Dog walker', 'Doll store', 'Dollar store', 'Donations center', 'Donut shop', 'Door manufacturer', 'Door shop', 'Door supplier', 'Down home cooking restaurant', 'Drafting service', 'Drainage service', 'Dress store', 'Drilling contractor', 'Drinking water fountain', 'Drive-in movie theater', 'Driver and vehicle licensing agency', \"Driver's license office\", 'Driving school', 'Drug store', 'Drum store', 'Dry cleaner', 'Dry wall contractor', 'Dry wall supply store', 'Duty free store', 'E commerce agency', 'E-commerce service', 'Ear piercing service', 'Earth works company', 'Eclectic restaurant', 'Ecological park', 'Economic development agency', 'Education', 'Education center', 'Educational consultant', 'Educational institution', 'Educational supply store', 'Electric motor repair shop', 'Electric motor store', 'Electric utility company', 'Electric vehicle charging station', 'Electric vehicle charging station contractor', 'Electrical', 'Electrical engineer', 'Electrical installation service', 'Electrical repair shop', 'Electrical supply store', 'Electrician', 'Electronic engineer', 'Electronic parts supplier', 'Electronics repair shop', 'Electronics store', 'Elementary school', 'Elevated', 'Elevator service', 'Embroidery service', 'Embroidery shop', 'Emergency care physician', 'Emergency care service', 'Emergency dental service', 'Emergency locksmith service', 'Emergency room', 'Emergency training', 'Emergency training school', 'Emergency veterinarian service', 'Employment agency', 'Employment attorney', 'Employment center', 'Employment consultant', 'Employment search service', 'Endodontist', 'Engine rebuilding service', 'Engineer', 'Engineering consultant', 'English language school', 'Engraver', 'Entertainer', 'Entertainment', 'Entertainment agency', 'Entertainment and recreation', 'Environmental consultant', 'Environmental engineer', 'Environmental health service', 'Environmental organization', 'Environmental program', 'Episcopal church', 'Equestrian facility', 'Equipment rental agency', 'Equipment supplier', 'Escape room center', 'Escrow service', 'Espresso bar', 'Estate liquidator', 'Estate planning attorney', 'Ethiopian restaurant', 'Ethnic restaurant', 'European restaurant', 'Evangelical church', 'Event management company', 'Event planner', 'Event technology service', 'Event ticket seller', 'Event venue', 'Excavating contractor', 'Exercise equipment store', 'Exhibit', 'Exhibition and trade centre', 'Exporter', 'Extended stay hotel', 'Eye care', 'Eye care center', 'Eyebrow bar', 'Eyelash salon', 'Fabric product manufacturer', 'Fabric store', 'Facial spa', 'Fair', 'Fair trade organization', 'Fairground', 'Family counselor', 'Family law attorney', 'Family practice physician', 'Family restaurant', 'Family service center', 'Farm', 'Farm bureau', 'Farm equipment repair service', 'Farm equipment supplier', 'Farm household tour', 'Farm shop', \"Farmers' market\", 'Farmstay', 'Fashion accessories store', 'Fashion designer', 'Fast food restaurant', 'Fax service', 'Federal credit union', 'Federal government office', 'Federal police', 'Fence contractor', 'Fence supply store', 'Feng shui shop', 'Ferry service', 'Fertility clinic', 'Fertilizer supplier', 'Festival', 'Fiber optic products supplier', 'Fiberglass repair service', 'Figurine shop', 'Filipino restaurant', 'Film production company', 'Finance broker', 'Financial consultant', 'Financial institution', 'Financial planner', 'Fine dining restaurant', 'Fingerprinting service', 'Fire damage restoration service', 'Fire protection equipment supplier', 'Fire protection system supplier', 'Fire station', 'Firearms academy', 'First aid kit', 'Fish & chips restaurant', 'Fish and seafood restaurant', 'Fish farm', 'Fish store', 'Fishing area', 'Fishing charter', 'Fishing club', 'Fishing pier', 'Fishing pond', 'Fishing store', 'Fitness center', 'Fixed-base operator', 'Flag store', 'Flea market', 'Flight school', 'Floor refinishing service', 'Flooring', 'Flooring contractor', 'Flooring store', 'Florist', 'Flower delivery', 'Flower designer', 'Flower market', 'Foam rubber supplier', 'Food', 'Food and beverage consultant', 'Food and drink', 'Food bank', 'Food broker', 'Food court', 'Food delivery', 'Food manufacturer', 'Food processing company', 'Food producer', 'Food products supplier', 'Food service', 'Food store', 'Foot bath', 'Foot care', 'Foot massage parlor', 'Football Field', 'Ford dealer', 'Foreign consulate', 'Forensic consultant', 'Forestry service', 'Forklift dealer', 'Forklift rental service', 'Formal wear store', 'Foundation', 'Foursquare church', 'Fraternal organization', 'Free parking lot', 'Freight forwarding service', 'French restaurant', 'Fresh food market', 'Fried chicken takeaway', 'Frozen dessert supplier', 'Frozen food manufacturer', 'Frozen yogurt shop', 'Fruit and vegetable processing', 'Fruit and vegetable store', 'Fruit parlor', 'Fruit wholesaler', 'Fruits wholesaler', 'Fuel pump', 'Fuel supplier', 'Funeral director', 'Funeral home', 'Furnace repair service', 'Furniture accessories', 'Furniture maker', 'Furniture rental service', 'Furniture repair shop', 'Furniture store', 'Furniture wholesaler', 'Fusion restaurant', 'Futon store', 'GMC dealer', 'Game store', 'Garage builder', 'Garage door supplier', 'Garbage collection service', 'Garbage dump', 'Garbage dump service', 'Garden', 'Garden center', 'Garden furniture shop', 'Gardener', 'Gas and automotive', 'Gas company', 'Gas cylinders supplier', 'Gas installation service', 'Gas station', 'Gasfitter', 'Gastroenterologist', 'Gastropub', 'Gated community', 'Gay bar', 'Gay night club', 'General contractor', 'General hospital', 'General practice attorney', 'General practitioner', 'General store', 'Generator shop', 'Genesis dealer', 'German restaurant', 'Gift basket store', 'Gift shop', 'Gift wrap store', 'Glass & mirror shop', 'Glass block supplier', 'Glass blower', 'Glass etching service', 'Glass merchant', 'Glass repair service', 'Glass shop', 'Glassware store', 'Glassware wholesaler', 'Glazier', 'Gluten-free restaurant', 'Go-kart track', 'Gold dealer', 'Goldsmith', 'Golf cart dealer', 'Golf club', 'Golf course', 'Golf driving range', 'Golf instructor', 'Golf shop', 'Gospel church', 'Gourmet grocery store', 'Government office', 'Granite supplier', 'Graphic designer', 'Greek restaurant', 'Greenhouse', 'Greeting card shop', 'Grill', 'Grill store', 'Grocery delivery service', 'Grocery store', 'Group accommodation', 'Group home', 'Guest house', 'Guitar instructor', 'Guitar store', 'Gun club', 'Gun shop', 'Gutter cleaning service', 'Gym', 'Gymnasium school', 'Gymnastics center', 'Gymnastics club', 'Gyro restaurant', 'HVAC contractor', 'Hair care', 'Hair extension technician', 'Hair extensions supplier', 'Hair removal service', 'Hair replacement service', 'Hair salon', 'Hairdresser', 'Hakka restaurant', 'Halal restaurant', 'Ham shop', 'Hamburger restaurant', 'Hand surgeon', 'Handbags shop', 'Handicraft', 'Handicraft fair', 'Handyman', 'Hang gliding center', 'Harbor', 'Hardware store', 'Harley-Davidson dealer', 'Hat shop', 'Haute couture fashion house', 'Hawaiian goods store', 'Hawaiian restaurant', 'Health', 'Health and beauty shop', 'Health consultant', 'Health food restaurant', 'Health food store', 'Health insurance agency', 'Health resort', 'Health spa', 'Hearing aid repair service', 'Hearing aid store', 'Heating contractor', 'Heating equipment supplier', 'Helicopter charter', 'Helicopter tour agency', 'Heliport', 'Herb shop', 'Herbal medicine store', 'Herbalist', 'Heritage building', 'Heritage museum', 'Heritage preservation', 'High ropes course', 'High school', 'Higher education', 'Hiking area', 'Hindu temple', 'Historical landmark', 'Historical place', 'Historical place museum', 'Historical society', 'History museum', 'Hobby store', 'Hockey', 'Hockey rink', 'Hockey supply store', 'Holiday accommodation service', 'Holiday apartment', 'Holiday apartment rental', 'Holiday home', 'Holistic medicine practitioner', 'Home audio store', 'Home automation company', 'Home builder', 'Home cinema installation', 'Home goods store', 'Home health care service', 'Home help', 'Home help service agency', 'Home improvement store', 'Home inspector', 'Home insurance agency', 'Home theater store', 'Homeless service', 'Homeless shelter', 'Homeopathic pharmacy', \"Homeowners' association\", 'Homestay', 'Honda dealer', 'Honey farm', 'Hookah bar', 'Hookah store', 'Horse boarding stable', 'Horse breeder', 'Horse rental service', 'Horse riding school', 'Horseback riding service', 'Hospice', 'Hospital', 'Hospital department', 'Hostel', 'Hot dog restaurant', 'Hot dog stand', 'Hot pot restaurant', 'Hot tub repair service', 'Hot tub store', 'Hot water system supplier', 'Hotel', 'House cleaning service', 'Housing authority', 'Housing complex', 'Housing development', 'Human resource consulting', 'Hunan restaurant', 'Hunting and fishing store', 'Hunting area', 'Hydraulic equipment supplier', 'Hydraulic repair service', 'Hydroponics equipment supplier', 'Hyundai dealer', 'IMAX theater', 'Ice cream shop', 'Ice skating rink', 'Ice supplier', 'Immigration & naturalization service', 'Immigration attorney', 'Import export company', 'Importer', 'Incense supplier', 'Indian grocery store', 'Indian restaurant', 'Indian takeaway', 'Indoor cycling', 'Indoor golf course', 'Indoor lodging', 'Indoor playground', 'Industrial equipment supplier', 'Industrial gas supplier', 'Industrial real estate agency', 'Infiniti dealer', 'Information bureau', 'Information services', 'Inn', 'Insulation contractor', 'Insulation materials store', 'Insurance agency', 'Insurance attorney', 'Insurance company', 'Interior Decorator', 'Interior decoration', 'Interior designer', 'International airport', 'Internet cafe', 'Internet marketing service', 'Internet service provider', 'Internet shop', 'Internist', 'Investment service', 'Invitation printing service', 'Irish pub', 'Irish restaurant', 'Irrigation equipment supplier', 'Island', 'Italian restaurant', 'Izakaya restaurant', 'Jaguar dealer', 'Jamaican restaurant', 'Janitorial equipment supplier', 'Janitorial service', 'Japanese confectionery shop', 'Japanese curry restaurant', 'Japanese delicatessen', 'Japanese grocery store', 'Japanese restaurant', 'Japanese steakhouse', 'Japanese sweets restaurant', 'Jazz club', 'Jeans shop', 'Jeep dealer', \"Jehovah's Witness Kingdom Hall\", 'Jeweler', 'Jewellery manufacturer', 'Jewelry appraiser', 'Jewelry buyer', 'Jewelry designer', 'Jewelry engraver', 'Jewelry repair service', 'Jewelry store', 'Juice shop', 'Jujitsu school', 'Junkyard', 'Karaoke', 'Karaoke bar', 'Karaoke equipment rental service', 'Karate school', 'Kawasaki motorcycle dealer', 'Kebab shop', 'Kennel', 'Key duplication service', 'Kia dealer', 'Kickboxing school', 'Kindergarten', 'Kiosk', 'Kitchen furniture store', 'Kitchen remodeler', 'Kitchen supply store', 'Kite shop', 'Knife store', 'Korean barbecue restaurant', 'Korean church', 'Korean grocery store', 'Korean restaurant', 'Kosher restaurant', 'Kung fu school', 'Kushiage and kushikatsu restaurant', 'Labor union', 'Laboratory', 'Laboratory equipment supplier', 'Lagoon', 'Lake', 'Lamborghini dealer', 'Lamination service', 'Lamp repair service', 'Lamp shade supplier', 'Land Rover dealer', 'Land mass', 'Land surveyor', 'Landmark', 'Landscape architect', 'Landscape designer', 'Landscape lighting designer', 'Landscaper', 'Landscaping supply store', 'Language school', 'Laotian restaurant', 'Laser cutting service', 'Laser hair removal service', 'Laser tag center', 'Lasik surgeon', 'Latin American restaurant', 'Laundromat', 'Laundry', 'Laundry service', 'Lava field', 'Law firm', 'Lawn care service', 'Lawn equipment rental service', 'Lawn irrigation equipment supplier', 'Lawn mower repair service', 'Lawn mower store', 'Lawn sprinkler system contractor', 'Lawyers association', 'Learning center', 'Leather cleaning service', 'Leather goods store', 'Lebanese restaurant', 'Legal affairs bureau', 'Legal services', 'Lexus dealer', 'Library', 'Life coach', 'Life insurance agency', 'Light bulb supplier', 'Lighthouse', 'Lighting consultant', 'Lighting store', 'Lighting wholesaler', 'Limousine service', 'Lincoln dealer', 'Linens store', 'Lingerie store', 'Liquidator', 'Liquor store', 'Liquor wholesaler', 'Literacy program', 'Live music bar', 'Live music venue', 'Livestock breeder', 'Livestock producer', 'Loan agency', 'Local government office', 'Local history museum', 'Local medical services', 'Locksmith', 'Lodge', 'Lodging', 'Logistics', 'Logistics service', 'Lounge', 'Low income housing program', 'Luggage repair service', 'Luggage storage facility', 'Luggage store', 'Lumber store', 'Lunch restaurant', 'Lutheran church', 'MINI dealer', 'MRI center', 'Machine maintenance', 'Machine shop', 'Magazine store', 'Magician', 'Mailbox rental service', 'Mailbox supplier', 'Mailing machine supplier', 'Mailing service', 'Make-up artist', 'Makerspace', 'Malaysian restaurant', 'Mammography service', 'Mandarin restaurant', 'Manufacturer', 'Map store', 'Mapping service', 'Marble supplier', 'Marina', 'Marine engineer', 'Marine protected area', 'Marine self defense force', 'Marine supply store', 'Marine surveyor', 'Market', 'Market researcher', 'Marketing agency', 'Marketing consultant', 'Marriage celebrant', 'Marriage or relationship counselor', 'Martial arts club', 'Martial arts school', 'Martial arts supply store', 'Masonry contractor', 'Masonry supply store', 'Massage', 'Massage school', 'Massage spa', 'Massage supply store', 'Massage therapist', 'Material handling equipment supplier', 'Mattress store', 'Mazda dealer', 'Meat dish restaurant', 'Meat packer', 'Meat processor', 'Meat products', 'Meat wholesaler', 'Mechanic', 'Mechanical contractor', 'Media company', 'Media consultant', 'Mediation service', 'Medical Center', 'Medical clinic', 'Medical diagnostic imaging center', 'Medical equipment supplier', 'Medical group', 'Medical laboratory', 'Medical office', 'Medical spa', 'Medical supply store', 'Meditation center', 'Meditation instructor', 'Mediterranean restaurant', 'Meeting planning service', 'Meeting room', 'Memorial park', \"Men's clothing store\", 'Mental health clinic', 'Mental health service', 'Mercedes-Benz dealer', 'Metal construction company', 'Metal detecting equipment supplier', 'Metal fabricator', 'Metal heat treating service', 'Metal supplier', 'Metal workshop', 'Metaphysical supply store', 'Methodist church', 'Mexican grocery store', 'Mexican restaurant', 'Mexican torta restaurant', 'Microwave oven repair service', 'Middle Eastern restaurant', 'Middle school', 'Military archive', 'Military base', 'Military cemetery', 'Military hospital', 'Military recruiting office', 'Military residence', 'Mill', 'Millwork shop', 'Miniature golf course', 'Miniatures store', 'Mission', 'Mitsubishi dealer', 'Mobile caterer', 'Mobile hairdresser', 'Mobile home rental agency', 'Mobile phone repair shop', 'Mobility equipment supplier', 'Model car play area', 'Modeling agency', 'Modern European restaurant', 'Modern French restaurant', 'Modern Indian restaurant', 'Modern izakaya restaurants', 'Modular home builder', 'Molding supplier', 'Monastery', 'Money order service', 'Money transfer service', 'Monogramming service', 'Monument', 'Moped dealer', 'Moroccan restaurant', 'Mortgage broker', 'Mortgage lender', 'Mortuary', 'Mosque', 'Motel', 'Motor scooter dealer', 'Motor vehicle dealer', 'Motorcycle dealer', 'Motorcycle insurance agency', 'Motorcycle parts store', 'Motorcycle rental agency', 'Motorcycle repair shop', 'Motorcycle shop', 'Motorsports store', 'Mountain peak', 'Mountaineering class', 'Mover', 'Movie rental', 'Movie rental kiosk', 'Movie rental store', 'Movie theater', 'Moving and storage service', 'Moving supply store', 'Muay Thai boxing gym', 'Muffler shop', 'Mulch supplier', 'Museum', 'Museum of zoology', 'Music box store', 'Music instructor', 'Music management and promotion', 'Music producer', 'Music school', 'Music store', 'Musical club', 'Musical instrument rental service', 'Musical instrument repair shop', 'Musical instrument store', 'Musician', 'Nail art', 'Nail salon', 'Nanotechnology engineer', 'National forest', 'National park', 'National reserve', 'Natural feature', 'Natural goods store', 'Natural history museum', 'Natural stone supplier', 'Nature preserve', 'Naturopathic practitioner', 'Neapolitan restaurant', 'Needlework shop', 'Nepalese restaurant', 'Neurologist', 'New American restaurant', 'News service', 'Newspaper advertising department', 'Newspaper publisher', 'Newsstand', 'Night club', 'Nissan dealer', 'Non-denominational church', 'Non-governmental organization', 'Non-profit organization', 'Noodle shop', 'Northern Italian restaurant', 'Notable street', 'Notary public', 'Novelty store', 'Nurse practitioner', 'Nursing agency', 'Nursing home', 'Nursing school', 'Nut store', 'Nutritionist', 'Obanzai restaurant', 'Observation deck', 'Observatory', 'Obstetrician-gynecologist', 'Occupational health service', 'Occupational medical physician', 'Occupational therapist', 'Ocean', 'Off roading area', 'Office', 'Office equipment rental service', 'Office equipment supplier', 'Office furniture store', 'Office services', 'Office space rental agency', 'Office supply', 'Office supply store', 'Office supply wholesaler', 'Oil change service', 'Okonomiyaki restaurant', 'Olive oil bottling company', 'Ophthalmologist', 'Ophthalmology clinic', 'Optical products manufacturer', 'Optical wholesaler', 'Optician', 'Optometrist', 'Oral and maxillofacial surgeon', 'Oral surgeon', 'Orchard', 'Orchestra', 'Orchid farm', 'Orchid grower', 'Organic farm', 'Organic food store', 'Organic restaurant', 'Organic shop', 'Oriental goods store', 'Orthodontist', 'Orthodox church', 'Orthodox synagogue', 'Orthopedic clinic', 'Orthopedic shoe store', 'Orthopedic surgeon', 'Orthoptist', 'Orthotics & prosthetics service', 'Osteopath', 'Otolaryngologist', 'Outdoor activity organiser', 'Outdoor bath', 'Outdoor clothing and equipment shop', 'Outdoor equestrian facility', 'Outdoor furniture store', 'Outdoor sports store', 'Outdoor swimming pool', 'Outerwear store', 'Outlet mall', 'Outlet store', 'Pacific Rim restaurant', 'Packaging company', 'Packaging supply store', 'Pain control clinic', 'Pain management physician', 'Paint manufacturer', 'Paint store', 'Paintball center', 'Paintball store', 'Painter', 'Painting', 'Painting studio', 'Paintings store', 'Pakistani restaurant', 'Palace', 'Pan-Asian restaurant', 'Pan-Latin restaurant', 'Pancake restaurant', 'Paper distributor', 'Paper store', 'Paralegal services provider', 'Parasailing ride service', 'Park', 'Park & ride', 'Parking garage', 'Parking lot', 'Party equipment rental service', 'Party planner', 'Party store', 'Passport office', 'Passport photo processor', 'Pasta shop', 'Pastry shop', 'Patio enclosure supplier', 'Patisserie', 'Paving contractor', 'Paving materials supplier', 'Pawn shop', 'Payphone', 'Payroll service', 'Pediatric cardiologist', 'Pediatric dentist', 'Pediatrician', 'Peninsula', 'Pentecostal church', 'Performing arts group', 'Performing arts theater', 'Perfume store', 'Periodontist', 'Permanent make-up clinic', 'Persian restaurant', 'Personal injury attorney', 'Personal trainer', 'Peruvian restaurant', 'Pest control service', 'Pet adoption service', 'Pet boarding service', 'Pet friendly accommodation', 'Pet funeral service', 'Pet groomer', 'Pet moving service', 'Pet sitter', 'Pet store', 'Pet supply store', 'Pet trainer', 'Petroleum products company', 'Pharmacy', 'Pho restaurant', 'Phone repair service', 'Photo booth', 'Photo lab', 'Photo restoration service', 'Photo shop', 'Photographer', 'Photography', 'Photography class', 'Photography service', 'Photography studio', 'Physical examination center', 'Physical fitness program', 'Physical therapist', 'Physical therapy clinic', 'Physiotherapy equipment supplier', 'Piano instructor', 'Piano moving service', 'Piano repair service', 'Piano store', 'Picnic ground', 'Picture frame shop', 'Pie shop', 'Pier', 'Pilates studio', 'Pipe supplier', 'Pizza Takeout', 'Pizza delivery', 'Pizza restaurant', 'Place', 'Place of worship', 'Planetarium', 'Plant nursery', 'Plastic bag supplier', 'Plastic fabrication company', 'Plastic products supplier', 'Plastic surgeon', 'Plastic surgery clinic', 'Plastic wholesaler', 'Play school', 'Playground', 'Playgroup', 'Plaza', 'Plumber', 'Plumbing supply store', 'Plus size clothing store', 'Plywood supplier', 'Podiatrist', 'Poke bar', 'Police', 'Police department', 'Police supply store', 'Political party office', 'Polynesian restaurant', 'Polythene and plastic sheeting supplier', 'Pond contractor', 'Pond fish supplier', 'Pond supply store', 'Pool billard club', 'Pool cleaning service', 'Pool hall', 'Popcorn store', 'Porsche dealer', 'Port authority', 'Portable building manufacturer', 'Portable toilet supplier', 'Portrait studio', 'Portuguese restaurant', 'Post office', 'Poster store', 'Pottery classes', 'Pottery store', 'Poultry farm', 'Powder coating service', 'Power station', 'Pregnancy care center', 'Preparatory school', 'Presbyterian church', 'Preschool', 'Pressure washing service', 'Pretzel store', 'Print shop', 'Printer repair service', 'Printing equipment and supplies', 'Printing equipment supplier', 'Prison', 'Private educational institution', 'Private golf course', 'Private investigator', 'Private tutor', 'Private university', 'Process server', 'Produce market', 'Produce wholesaler', 'Professional services', 'Promotional products supplier', 'Propane supplier', 'Property investment', 'Property maintenance', 'Property management company', 'Protestant church', 'Psychiatric hospital', 'Psychiatrist', 'Psychic', 'Psychologist', 'Psychotherapist', 'Pub', 'Public bathroom', 'Public beach', \"Public defender's office\", 'Public educational institution', 'Public golf course', 'Public health department', 'Public housing', 'Public library', 'Public parking space', 'Public sauna', 'Public swimming pool', 'Public university', 'Public wheelchair-accessible bathroom', 'Publisher', 'Puerto Rican restaurant', 'Pulmonologist', 'Pumping equipment and service', 'Punjabi restaurant', 'Quarry', 'Quilt shop', 'RV repair shop', 'RV storage facility', 'Racecourse', 'Racing car parts store', 'Radiator repair service', 'Radiator shop', 'Radio broadcaster', 'Radiologist', 'Raft trip outfitter', 'Rafting', 'Rainwater tank supplier', 'Ram dealer', 'Ramen restaurant', 'Ranch', 'Rare book store', 'Ravine', 'Raw food restaurant', 'Ready mix concrete supplier', 'Real estate', 'Real estate agency', 'Real estate agents', 'Real estate appraiser', 'Real estate attorney', 'Real estate consultant', 'Real estate developer', 'Real estate rental agency', 'Record store', 'Recording studio', 'Records storage facility', 'Recreation', 'Recreation center', 'Recreational vehicle rental agency', 'Recruiter', 'Recycling center', 'Recycling container location', 'Reef', 'Reef flat', 'Reflexologist', 'Reformed church', 'Refrigerator repair service', 'Refrigerator store', 'Regional airport', 'Rehabilitation center', 'Reiki therapist', 'Religious book store', 'Religious destination', 'Religious goods store', 'Religious institution', 'Religious organization', 'Remodeler', 'Rental', \"Renter's insurance agency\", 'Repair service', 'Reproductive health clinic', 'Reptile store', 'Research foundation', 'Research institute', 'Reservoir', 'Resort hotel', 'Rest stop', 'Restaurant', 'Restaurant or cafe', 'Restaurant supply store', 'Retaining wall supplier', 'Retirement community', 'Retirement home', 'Retreat center', 'Rice restaurant', 'Ridge', 'River', 'Road construction company', 'Road cycling', 'Roadside assistance', 'Rock climbing', 'Rock climbing gym', 'Rock climbing instructor', 'Rock shop', 'Rodeo', 'Roofing contractor', 'Roofing supply store', 'Rowing club', 'Rubber stamp store', 'Rug store', 'Running store', 'Rustic furniture store', 'SCUBA instructor', 'SCUBA tour agency', 'STD testing service', 'Safety equipment supplier', 'Sailing club', 'Sailing event area', 'Sailing school', 'Sailmaker', 'Sake brewery', 'Salad shop', 'Salvage yard', 'Sanctuary', 'Sand & gravel supplier', 'Sandblasting service', 'Sandwich shop', 'Satellite communication service', 'Sauna', 'Savings bank', 'Scaffolding rental service', 'Scandinavian restaurant', 'Scenic spot', 'School', 'School administrator', 'School center', 'School house', 'School supply store', 'Science museum', 'Scooter rental service', 'Scooter repair shop', 'Scout home', 'Scrap metal dealer', 'Scrapbooking store', 'Screen printer', 'Screen printing shop', 'Screen printing supply store', 'Screen repair service', 'Screen store', 'Sculpture', 'Seafood market', 'Seafood restaurant', 'Seafood wholesaler', 'Second hand store', 'Security guard service', 'Security service', 'Security system installer', 'Security system supplier', 'Seed supplier', 'Self defense school', 'Self service car wash', 'Self-catering accommodation', 'Self-storage facility', 'Senior citizen center', 'Septic system service', 'Service establishment', 'Serviced accommodation', 'Serviced apartment', 'Seventh-day Adventist church', 'Sewing machine repair service', 'Sewing machine store', 'Sewing shop', 'Shabu-shabu restaurant', 'Sharpening service', 'Shelter', 'Shelving store', 'Shinto shrine', 'Shipping and mailing service', 'Shipping company', 'Shipping service', 'Shipyard', 'Shochu brewery', 'Shoe repair shop', 'Shoe store', 'Shooting range', 'Shopping mall', 'Short term apartment rental agency', 'Shower door shop', 'Shredding service', 'Shrimp farm', 'Shrine', 'Sichuan restaurant', 'Sicilian restaurant', 'Siding contractor', 'Sightseeing tour agency', 'Sign shop', 'Silversmith', 'Skate shop', 'Skateboard park', 'Skateboard shop', 'Ski rental service', 'Skin care clinic', 'Skin care products vending machine', 'Skydiving center', 'Skylight contractor', 'Sleep clinic', 'Small appliance repair service', 'Small engine repair service', 'Small plates restaurant', 'Snack bar', 'Snowboard shop', 'Soba noodle shop', 'Soccer field', 'Soccer store', 'Social club', 'Social security attorney', 'Social security office', 'Social services', 'Social services organization', 'Social worker', 'Sod supplier', 'Soft drinks shop', 'Softball club', 'Softball field', 'Software company', 'Solar energy company', 'Solar energy contractor', 'Solar energy equipment supplier', 'Solar hot water system supplier', 'Soul food restaurant', 'Soup restaurant', 'Soup shop', 'South American restaurant', 'South Asian restaurant', 'Southeast Asian restaurant', 'Southern restaurant (US)', 'Southwestern restaurant (US)', 'Souvenir manufacturer', 'Souvenir store', 'Spa', 'Spa and health club', 'Spanish restaurant', 'Special education school', 'Specialized clinic', 'Specialized hospital', 'Speech pathologist', 'Spice store', 'Spiritist center', 'Sport tour agency', 'Sporting goods store', 'Sports activity location', 'Sports bar', 'Sports card store', 'Sports club', 'Sports complex', 'Sports equipment rental service', 'Sports massage therapist', 'Sports medicine clinic', 'Sports medicine physician', 'Sports memorabilia store', 'Sports nutrition store', 'Sports school', 'Sportswear store', 'Spring', 'Stable', 'Stadium', 'Stage', 'Stage lighting equipment supplier', 'Stained glass studio', 'Stamp shop', 'State government office', 'State park', 'Stationery store', 'Statue', 'Steak house', 'Steamed bun shop', 'Steel distributor', 'Steel fabricator', 'Stereo repair service', 'Sticker manufacturer', 'Stock broker', 'Stone supplier', 'Storage facility', 'Store', 'Strait', 'Structural engineer', 'Stucco contractor', 'Student dormitory', 'Student housing center', 'Stylist', 'Subaru dealer', 'Sukiyaki and Shabu Shabu restaurant', 'Summer camp', 'Sundae restaurant', 'Sunglasses store', 'Supermarket', 'Surf school', 'Surf shop', 'Surgeon', 'Surgical center', 'Surgical supply store', 'Surplus store', 'Sushi restaurant', 'Sushi takeaway', 'Suzuki dealer', 'Suzuki motorcycle dealer', 'Swim club', 'Swimming', 'Swimming basin', 'Swimming instructor', 'Swimming lake', 'Swimming pool', 'Swimming pool contractor', 'Swimming pool repair service', 'Swimming pool supply store', 'Swimming school', 'Swimwear store', 'Synagogue', 'T-shirt company', 'T-shirt store', 'Tack shop', 'Taco restaurant', 'Taekwondo school', 'Tai chi school', 'Tailor', 'Taiwanese restaurant', 'Takeout Restaurant', 'Takeout restaurant', 'Tanning salon', 'Taoist temple', 'Tapas bar', 'Tapas restaurant', 'Tattoo and piercing shop', 'Tattoo artist', 'Tattoo removal service', 'Tattoo shop', 'Tax consultant', 'Tax department', 'Tax preparation', 'Tax preparation service', 'Taxi service', 'Tea exporter', 'Tea house', 'Tea manufacturer', 'Tea store', 'Tea wholesaler', 'Technical school', 'Technical service', 'Technology park', 'Teeth whitening service', 'Telecommunications', 'Telecommunications contractor', 'Telecommunications equipment supplier', 'Telecommunications service provider', 'Telephone answering service', 'Telephone company', 'Television repair service', 'Television station', 'Temp agency', 'Tempura restaurant', 'Tennis club', 'Tennis court', 'Tennis instructor', 'Tennis store', 'Tent rental service', 'Teppanyaki restaurant', 'Tesla showroom', 'Tex-Mex restaurant', 'Thai massage therapist', 'Thai restaurant', 'Theater company', 'Theater production', 'Theme park', 'Thrift store', 'Tiki bar', 'Tile contractor', 'Tile store', 'Timeshare agency', 'Tire repair shop', 'Tire shop', 'Title company', 'Tobacco shop', 'Toll booth', 'Toner cartridge supplier', 'Tonkatsu restaurant', 'Tool rental service', 'Tool repair shop', 'Tool store', 'Topsoil supplier', 'Tour agency', 'Tour operator', 'Tourism', 'Tourist attraction', 'Tourist information center', 'Towing equipment provider', 'Towing service', 'Townhouse complex', 'Toy store', 'Toyota dealer', 'Tractor dealer', 'Tractor repair shop', 'Trade school', 'Trading card store', 'Traditional American restaurant', 'Traditional restaurant', 'Trail head', 'Trailer dealer', 'Trailer rental service', 'Trailer supply store', 'Training centre', 'Training provider', 'Training school', 'Transit depot', 'Transit station', 'Transmission shop', 'Transportation infrastructure', 'Transportation service', 'Travel agency', 'Travel clinic', 'Travel lounge', 'Travellers lodge', 'Tree farm', 'Tree service', 'Trial attorney', 'Triumph motorcycle dealer', 'Trophy shop', 'Tropical fish store', 'Truck accessories store', 'Truck dealer', 'Truck parts supplier', 'Truck rental agency', 'Truck repair shop', 'Truck topper supplier', 'Trucking company', 'Truss manufacturer', 'Tuning automobile', 'Tunnel', 'Turkish restaurant', 'Tutoring service', 'Tuxedo shop', 'Typing service', 'Udon noodle restaurant', 'Underwear store', 'Uniform store', 'Unitarian Universalist Church', 'United Church of Christ', 'United Methodist church', 'Unity church', 'University', 'University department', 'University library', 'Upholstery cleaning service', 'Upholstery shop', 'Urgent care center', 'Urologist', 'Urology clinic', 'Used CD store', 'Used auto parts store', 'Used bicycle shop', 'Used book store', 'Used car dealer', 'Used clothing store', 'Used computer store', 'Used furniture store', 'Used motorcycle dealer', 'Used musical instrument store', 'Used office furniture store', 'Used tire shop', 'Used truck dealer', 'User-operated machine', 'Utility contractor', 'Uzbeki restaurant', 'Vacation home rental agency', 'Vacuum cleaner repair shop', 'Vacuum cleaner store', 'Vacuum cleaning system supplier', 'Valet parking service', 'Van rental agency', 'Vaporizer store', 'Variety store', 'Vascular surgeon', 'Vegan restaurant', 'Vegetarian cafe and deli', 'Vegetarian restaurant', 'Vegetation', 'Vehicle inspection', 'Vehicle shipping agent', 'Vending machine supplier', 'Venezuelan restaurant', 'Veterans affairs department', 'Veterans hospital', 'Veterans organization', 'Veterinarian', 'Veterinary care', 'Veterinary pharmacy', 'Video arcade', 'Video conferencing service', 'Video duplication service', 'Video editing service', 'Video equipment repair service', 'Video game store', 'Video karaoke', 'Video production service', 'Video store', 'Vietnamese restaurant', 'Villa', 'Vintage clothing store', 'Violin shop', 'Virtual office rental', 'Visitor center', 'Vista', 'Vista point', 'Vitamin & supplements store', 'Vocal instructor', 'Vocational college', 'Vocational school', 'Volcano', 'Volkswagen dealer', 'Volleyball court', 'Volunteer organization', 'Walk-in clinic', 'Wallpaper store', 'War memorial', 'War museum', 'Warehouse', 'Warehouse club', 'Warehouse store', 'Washer & dryer repair service', 'Washer & dryer store', 'Waste management service', 'Watch manufacturer', 'Watch repair service', 'Watch store', 'Water', 'Water damage restoration service', 'Water filter supplier', 'Water park', 'Water pump supplier', 'Water purification company', 'Water ski shop', 'Water skiing instructor', 'Water skiing service', 'Water softening equipment supplier', 'Water sports equipment rental service', 'Water tank cleaning service', 'Water testing service', 'Water treatment plant', 'Water treatment supplier', 'Water works equipment supplier', 'Waterfall', 'Waterproofing company', 'Waxing hair removal service', 'Weather forecast service', 'Web hosting company', 'Website designer', 'Wedding bakery', 'Wedding chapel', 'Wedding photographer', 'Wedding planner', 'Wedding service', 'Wedding store', 'Wedding venue', 'Weddings', 'Weigh station', 'Weight loss service', 'Weightlifting area', 'Welder', 'Welding gas supplier', 'Welding supply store', 'Well drilling contractor', 'Wellness center', 'Wellness hotel', 'Wellness program', 'Western apparel store', 'Wetland', 'Whale watching tour agency', 'Wheel alignment service', 'Wheel store', 'Wheelchair rental service', 'Wheelchair repair service', 'Wheelchair store', 'Wholesale bakery', 'Wholesale florist', 'Wholesale grocer', 'Wholesale jeweler', 'Wholesale plant nursery', 'Wholesaler', 'Wi-Fi spot', 'Wicker store', 'Wig shop', 'Wildlife park', 'Wildlife refuge', 'Wildlife rescue service', 'Wind farm', 'Window cleaning service', 'Window installation service', 'Window supplier', 'Window tinting service', 'Window treatment store', 'Windsurfing store', 'Wine bar', 'Wine club', 'Wine store', 'Winemaking supply store', 'Winery', \"Women's clothing store\", \"Women's health clinic\", 'Womens personal trainer', 'Wood and laminate flooring supplier', 'Wood floor installation service', 'Wood floor refinishing service', 'Woods', 'Woodworker', 'Woodworking supply store', 'Work clothes store', \"Workers' club\", 'X-ray lab', 'Yacht broker', 'Yacht club', 'Yakiniku restaurant', 'Yakitori restaurant', 'Yamaha motorcycle dealer', 'Yarn store', 'Yoga instructor', 'Yoga retreat center', 'Yoga studio', 'Youth care', 'Youth center', 'Youth clothing store', 'Youth group', 'Youth organization', 'Youth social services organization', 'Zoo']\n"
     ]
    }
   ],
   "source": [
    "# 'Category' may contain multiple values (e.g., ['Pharmacy', 'Health']), let's use aggregation to extract all unique values across documents\n",
    "\n",
    "categories = meta.aggregate([\n",
    "    {\"$unwind\": {\"path\": \"$category\"}}, \n",
    "    {\"$group\": {\"_id\": \"$category\"}},\n",
    "    {\"$sort\": {\"_id\": 1}}  # Sort alphabetically\n",
    "])\n",
    "\n",
    "# Convert to list\n",
    "categories = [doc[\"_id\"] for doc in categories]\n",
    "print(categories)"
   ]
  },
  {
   "cell_type": "markdown",
   "metadata": {},
   "source": [
    "Let's delete all the businesses that do not have 'restaurant' in the 'category' field."
   ]
  },
  {
   "cell_type": "code",
   "execution_count": 38,
   "metadata": {},
   "outputs": [
    {
     "name": "stdout",
     "output_type": "stream",
     "text": [
      "Deleted 17782 documents that did not match the query.\n",
      "Total documents before: 21507, after: 3725\n"
     ]
    }
   ],
   "source": [
    "# Step 1: Get the IDs of matching documents\n",
    "matching_ids = [\n",
    "    doc[\"_id\"] for doc in meta.find(\n",
    "        {\"category\": {\"$elemMatch\": {\"$regex\": \"restaurant\", \n",
    "                                     \"$options\": \"i\"}}, \n",
    "         \"state\": {\"$ne\": \"Permanently closed\"}}, \n",
    "        {\"_id\": 1}  # Fetch only the _id field for efficiency\n",
    "    )\n",
    "]\n",
    "\n",
    "# Step 2: Count total documents before deletion\n",
    "total_docs_before = meta.count_documents({})\n",
    "\n",
    "# Step 3: Delete documents that are NOT in the matching list\n",
    "if matching_ids:  \n",
    "    result = meta.delete_many({\"_id\": {\"$nin\": matching_ids}})\n",
    "    # Get count of deleted documents\n",
    "    total_deleted = result.deleted_count  \n",
    "    # Count remaining documents\n",
    "    total_docs_after = meta.count_documents({})  \n",
    "    \n",
    "    print(f\"Deleted {total_deleted} documents that did not match the query.\")\n",
    "    print(f\"Total documents before: {total_docs_before}, after: {total_docs_after}\")\n",
    "else:\n",
    "    print(\"No matching documents found.\")\n"
   ]
  },
  {
   "cell_type": "markdown",
   "metadata": {},
   "source": [
    "Let's remove those attributes that are not interesting for our purposes: 'relative_results', 'url'"
   ]
  },
  {
   "cell_type": "code",
   "execution_count": 39,
   "metadata": {},
   "outputs": [
    {
     "data": {
      "text/plain": [
       "UpdateResult({'n': 3725, 'nModified': 3725, 'ok': 1.0, 'updatedExisting': True}, acknowledged=True)"
      ]
     },
     "execution_count": 39,
     "metadata": {},
     "output_type": "execute_result"
    }
   ],
   "source": [
    "meta.update_many({}, {\"$unset\": {\"relative_results\":\"\", \"url\": \"\"}})"
   ]
  },
  {
   "cell_type": "markdown",
   "metadata": {},
   "source": [
    "# Create Indexes"
   ]
  },
  {
   "cell_type": "markdown",
   "metadata": {},
   "source": [
    "Let's create indexes on our data collections for query efficiancy purposes."
   ]
  },
  {
   "cell_type": "markdown",
   "metadata": {},
   "source": [
    "Indexe for reviews:"
   ]
  },
  {
   "cell_type": "code",
   "execution_count": 40,
   "metadata": {},
   "outputs": [
    {
     "data": {
      "text/plain": [
       "'rating_-1_num_of_reviews_-1'"
      ]
     },
     "execution_count": 40,
     "metadata": {},
     "output_type": "execute_result"
    }
   ],
   "source": [
    "# Create index on reviews\n",
    "reviews.create_index(\n",
    "    {'rating':-1,'num_of_reviews':-1}\n",
    ")"
   ]
  },
  {
   "cell_type": "markdown",
   "metadata": {},
   "source": [
    "### Indexes on restaurants' meta data:"
   ]
  },
  {
   "cell_type": "code",
   "execution_count": 41,
   "metadata": {},
   "outputs": [
    {
     "data": {
      "text/plain": [
       "'name_1_avg_rating_-1'"
      ]
     },
     "execution_count": 41,
     "metadata": {},
     "output_type": "execute_result"
    }
   ],
   "source": [
    "# Create index on average rating\n",
    "meta.create_index(\n",
    "    {'name':1, 'avg_rating': -1}\n",
    ")"
   ]
  },
  {
   "cell_type": "markdown",
   "metadata": {},
   "source": [
    "We want to create an index based on restaurants' position to enable queries to filter them based on such data."
   ]
  },
  {
   "cell_type": "code",
   "execution_count": 42,
   "metadata": {},
   "outputs": [
    {
     "data": {
      "text/plain": [
       "UpdateResult({'n': 3725, 'nModified': 3725, 'ok': 1.0, 'updatedExisting': True}, acknowledged=True)"
      ]
     },
     "execution_count": 42,
     "metadata": {},
     "output_type": "execute_result"
    }
   ],
   "source": [
    "# Update the schema to store the location as GeoJSON\n",
    "meta.update_many(\n",
    "    {},\n",
    "    [\n",
    "        { \n",
    "            \"$set\": {\n",
    "                \"location\": {\n",
    "                    \"type\": \"Point\",\n",
    "                    \"coordinates\": [\n",
    "                        { \"$toDouble\": \"$longitude\" },\n",
    "                        { \"$toDouble\": \"$latitude\" }\n",
    "                    ]\n",
    "                }\n",
    "            }\n",
    "        }\n",
    "    ]\n",
    ")"
   ]
  },
  {
   "cell_type": "markdown",
   "metadata": {},
   "source": [
    "Once the location field is set up, create the 2dsphere index"
   ]
  },
  {
   "cell_type": "code",
   "execution_count": 43,
   "metadata": {},
   "outputs": [
    {
     "data": {
      "text/plain": [
       "'location_2dsphere'"
      ]
     },
     "execution_count": 43,
     "metadata": {},
     "output_type": "execute_result"
    }
   ],
   "source": [
    "meta.create_index([(\"location\", \"2dsphere\")])"
   ]
  },
  {
   "cell_type": "code",
   "execution_count": 44,
   "metadata": {},
   "outputs": [
    {
     "name": "stdout",
     "output_type": "stream",
     "text": [
      "{'_id_': {'v': 2, 'key': [('_id', 1)]}, 'name_1_avg_rating_-1': {'v': 2, 'key': [('name', 1), ('avg_rating', -1)]}, 'location_2dsphere': {'v': 2, 'key': [('location', '2dsphere')], '2dsphereIndexVersion': 3}}\n"
     ]
    }
   ],
   "source": [
    "# Check whether the 2dsphere index has been created correctly\n",
    "print(meta.index_information())\n"
   ]
  },
  {
   "cell_type": "code",
   "execution_count": 45,
   "metadata": {},
   "outputs": [
    {
     "name": "stdout",
     "output_type": "stream",
     "text": [
      "{'_id': ObjectId('67c9a9928c4ae1c3ac1c76e1'), 'name': 'Hale Pops', 'address': 'Hale Pops, 55-370 Kamehameha Hwy, Laie, HI 96762', 'gmap_id': '0x7c00456eecad3111:0x8217f9600c51f33', 'description': None, 'latitude': 21.637795699999998, 'longitude': -157.9207142, 'category': ['Restaurant'], 'avg_rating': 4.4, 'num_of_reviews': 18, 'price': None, 'hours': [['Thursday', '11AM–8PM'], ['Friday', '11AM–8PM'], ['Saturday', '11AM–8PM'], ['Sunday', 'Closed'], ['Monday', '11AM–8PM'], ['Tuesday', '11AM–8PM'], ['Wednesday', '11AM–8PM']], 'MISC': {'Service options': ['Outdoor seating', 'Takeout', 'Delivery'], 'Popular for': ['Lunch', 'Solo dining'], 'Accessibility': ['Wheelchair accessible entrance'], 'Offerings': ['Comfort food', 'Quick bite'], 'Amenities': ['Good for kids'], 'Atmosphere': ['Casual'], 'Crowd': ['Groups', 'Tourists'], 'Payments': ['NFC mobile payments']}, 'state': 'Closed ⋅ Opens 11AM', 'location': {'type': 'Point', 'coordinates': [-157.9207142, 21.637795699999998]}}\n"
     ]
    }
   ],
   "source": [
    "# Find documents that have the 'location' field\n",
    "documents_with_location = meta.find({\"location\": {\"$exists\": True}})\n",
    "\n",
    "# Print the first 1 documents with 'location' to check the data\n",
    "for doc in documents_with_location.limit(1):\n",
    "    print(doc)"
   ]
  },
  {
   "cell_type": "markdown",
   "metadata": {},
   "source": [
    "# Convert hours <br>\n",
    "Convert opening and closing times\n",
    "\n",
    "The following is a document of the collection MetaData (the one containing the data of businesses). We want to convert the format of 'hour' \n",
    "```python\n",
    "# Example data\n",
    "restaurant_data = {\n",
    "    \"name\": \"Kraken Coffee Kahului\",\n",
    "    \"category\": \"Restaurant\",\n",
    "    \"hours\": [['Thursday', '11AM–8PM'], ['Friday', '11AM–8PM'], \n",
    "    ['Saturday', '11AM–8PM'], ['Sunday', 'Closed'], ['Monday', '11AM–8PM'], \n",
    "    ['Tuesday', '11AM–8PM'], ['Wednesday', '11AM–8PM']],\n",
    "    \"location\": {\"type\": \"Point\", \"coordinates\": [-156.4506136, 20.8882377]}\n",
    "}\n",
    "```\n",
    "\n",
    "The purpose is to have a more structured format for 'hour', we want each document to explicit its opening and closing time for each day and obtain in the end something like this:\n",
    "\n",
    "[{'day': 'Thursday', 'open_time': '11:00', 'close_time': '20:00'}, {'day': 'Friday', 'open_time': '11:00', 'close_time': '20:00'}, {'day': 'Saturday', 'open_time': '11:00', 'close_time': '20:00'}, {'day': 'Sunday', 'open_time': '99:99', 'close_time': '99:99'}, {'day': 'Monday', 'open_time': '11:00', 'close_time': '20:00'}, {'day': 'Tuesday', 'open_time': '11:00', 'close_time': '20:00'}, {'day': 'Wednesday', 'open_time': '11:00', 'close_time': '20:00'}]\n"
   ]
  },
  {
   "cell_type": "code",
   "execution_count": 46,
   "metadata": {},
   "outputs": [
    {
     "name": "stdout",
     "output_type": "stream",
     "text": [
      "[{'day': 'Thursday', 'open_time': '11:00', 'close_time': '20:00'}, {'day': 'Friday', 'open_time': '11:00', 'close_time': '20:00'}, {'day': 'Saturday', 'open_time': '11:00', 'close_time': '20:00'}, {'day': 'Sunday', 'open_time': '99:99', 'close_time': '99:99'}, {'day': 'Monday', 'open_time': '11:00', 'close_time': '20:00'}, {'day': 'Tuesday', 'open_time': '11:00', 'close_time': '20:00'}, {'day': 'Wednesday', 'open_time': '11:00', 'close_time': '20:00'}]\n"
     ]
    }
   ],
   "source": [
    "from datetime import datetime\n",
    "\n",
    "def convert_hours(hours_list):\n",
    "    if not hours_list or not isinstance(hours_list, list):\n",
    "        return []  # Return empty list if invalid\n",
    "\n",
    "    formatted_hours = []\n",
    "    \n",
    "    for entry in hours_list:\n",
    "        if isinstance(entry, dict):  \n",
    "            # Already formatted, keep as is\n",
    "            formatted_hours.append(entry)  \n",
    "            continue  \n",
    "\n",
    "        if not isinstance(entry, list) or len(entry) != 2:\n",
    "            print(f\"Skipping invalid entry: {entry}\")  \n",
    "            continue  \n",
    "\n",
    "        day, time_range = entry\n",
    "\n",
    "        if not isinstance(day, str) or not \\\n",
    "            isinstance(time_range, str):\n",
    "            print(f\"Skipping invalid data format: {entry}\")  \n",
    "            continue  \n",
    "\n",
    "        # Handle 'Closed' case \n",
    "        # -> Assign '99:99' to indicate closure\n",
    "        if time_range.lower() == \"closed\":\n",
    "            formatted_hours.append({\n",
    "                \"day\": day,\n",
    "                \"open_time\": \"99:99\",\n",
    "                \"close_time\": \"99:99\"\n",
    "            })\n",
    "            continue  \n",
    "\n",
    "        # Handle 'Open 24 hours' case\n",
    "        if \"24 hours\" in time_range.lower():\n",
    "            formatted_hours.append({\n",
    "                \"day\": day,\n",
    "                \"open_time\": \"00:00\",\n",
    "                \"close_time\": \"23:59\"\n",
    "            })\n",
    "            continue  \n",
    "\n",
    "        try:\n",
    "            # Split by en-dash\n",
    "            open_time, close_time = time_range.split(\"–\")  \n",
    "        except ValueError:\n",
    "            print(f\"Skipping invalid time format: {entry}\")  \n",
    "            continue  \n",
    "\n",
    "        # Ensure open_time gets the same AM/PM \n",
    "        # indication as close_time if missing\n",
    "        if \"AM\" in close_time or \"PM\" in close_time:\n",
    "            if not (\"AM\" in open_time or \"PM\" in open_time):\n",
    "                open_time += \"AM\" \\\n",
    "                    if \"AM\" in close_time else \"PM\"\n",
    "\n",
    "        # Convert open time\n",
    "        try:\n",
    "            if \":\" in open_time:\n",
    "                open_time = datetime.strptime(\n",
    "                    open_time.strip(), \"%I:%M%p\").strftime(\n",
    "                        \"%H:%M\")\n",
    "            else:\n",
    "                open_time = datetime.strptime(\n",
    "                    open_time.strip(), \"%I%p\").strftime(\n",
    "                        \"%H:%M\")\n",
    "        except ValueError:\n",
    "            print(f\"Skipping invalid open_time: \\\n",
    "                  {open_time} (close_time is {close_time})\")  \n",
    "            continue  \n",
    "\n",
    "        # Convert close time\n",
    "        try:\n",
    "            if \":\" in close_time:\n",
    "                close_time = datetime.strptime(\n",
    "                    close_time.strip(), \"%I:%M%p\").strftime(\n",
    "                        \"%H:%M\")\n",
    "            else:\n",
    "                close_time = datetime.strptime(\n",
    "                    close_time.strip(), \"%I%p\").strftime(\n",
    "                        \"%H:%M\")\n",
    "        except ValueError:\n",
    "            print(f\"Skipping invalid close_time: \\\n",
    "                  {close_time} (open_time is {open_time})\")  \n",
    "            continue  \n",
    "\n",
    "        formatted_hours.append({\n",
    "            \"day\": day,\n",
    "            \"open_time\": open_time,\n",
    "            \"close_time\": close_time\n",
    "        })\n",
    "\n",
    "    return formatted_hours\n",
    "\n",
    "\n",
    "\n",
    "\n",
    "\n",
    "# Example data with 'hours' in a format like the raw one, let's see the output we get after the conversion\n",
    "restaurant_data = {\n",
    "    \"name\": \"Kraken Coffee Kahului\",\n",
    "    \"category\": \"Restaurant\",\n",
    "    \"hours\": [['Thursday', '11AM–8PM'], \n",
    "              ['Friday', '11AM–8PM'], \n",
    "              ['Saturday', '11AM–8PM'], \n",
    "              ['Sunday', 'Closed'], \n",
    "              ['Monday', '11AM–8PM'], \n",
    "              ['Tuesday', '11AM–8PM'], \n",
    "              ['Wednesday', '11AM–8PM']],\n",
    "    \"location\": {\"type\": \"Point\", \"coordinates\": \n",
    "                 [-156.4506136, 20.8882377]}\n",
    "}\n",
    "\n",
    "# Apply the function\n",
    "formatted_hours = convert_hours(restaurant_data[\"hours\"])\n",
    "\n",
    "# Print the output\n",
    "print(formatted_hours)\n",
    "\n"
   ]
  },
  {
   "cell_type": "markdown",
   "metadata": {},
   "source": [
    "Let's convert the format of hours for all documents"
   ]
  },
  {
   "cell_type": "code",
   "execution_count": 47,
   "metadata": {},
   "outputs": [
    {
     "name": "stdout",
     "output_type": "stream",
     "text": [
      "Skipping update for document ID                   67c9a9928c4ae1c3ac1c7719 due to empty or                     invalid hours.\n",
      "Skipping update for document ID                   67c9a9928c4ae1c3ac1c771b due to empty or                     invalid hours.\n",
      "Skipping update for document ID                   67c9a9928c4ae1c3ac1c776f due to empty or                     invalid hours.\n",
      "Skipping update for document ID                   67c9a9928c4ae1c3ac1c7771 due to empty or                     invalid hours.\n",
      "Skipping update for document ID                   67c9a9928c4ae1c3ac1c785b due to empty or                     invalid hours.\n",
      "Skipping update for document ID                   67c9a9928c4ae1c3ac1c790d due to empty or                     invalid hours.\n",
      "Skipping update for document ID                   67c9a9928c4ae1c3ac1c7a38 due to empty or                     invalid hours.\n",
      "Skipping update for document ID                   67c9a9928c4ae1c3ac1c7a3e due to empty or                     invalid hours.\n",
      "Skipping update for document ID                   67c9a9928c4ae1c3ac1c7a7e due to empty or                     invalid hours.\n",
      "Skipping update for document ID                   67c9a9938c4ae1c3ac1c7aee due to empty or                     invalid hours.\n",
      "Skipping update for document ID                   67c9a9938c4ae1c3ac1c7afe due to empty or                     invalid hours.\n",
      "Skipping update for document ID                   67c9a9938c4ae1c3ac1c7b37 due to empty or                     invalid hours.\n",
      "Skipping update for document ID                   67c9a9938c4ae1c3ac1c7b3b due to empty or                     invalid hours.\n",
      "Skipping update for document ID                   67c9a9938c4ae1c3ac1c7b51 due to empty or                     invalid hours.\n",
      "Skipping update for document ID                   67c9a9938c4ae1c3ac1c7bcc due to empty or                     invalid hours.\n",
      "Skipping update for document ID                   67c9a9938c4ae1c3ac1c7bf0 due to empty or                     invalid hours.\n",
      "Skipping update for document ID                   67c9a9938c4ae1c3ac1c7c25 due to empty or                     invalid hours.\n",
      "Skipping update for document ID                   67c9a9938c4ae1c3ac1c7d07 due to empty or                     invalid hours.\n",
      "Skipping update for document ID                   67c9a9938c4ae1c3ac1c7d58 due to empty or                     invalid hours.\n",
      "Skipping update for document ID                   67c9a9938c4ae1c3ac1c7d6f due to empty or                     invalid hours.\n",
      "Skipping update for document ID                   67c9a9938c4ae1c3ac1c7da2 due to empty or                     invalid hours.\n",
      "Skipping update for document ID                   67c9a9938c4ae1c3ac1c7dad due to empty or                     invalid hours.\n",
      "Skipping update for document ID                   67c9a9938c4ae1c3ac1c7e29 due to empty or                     invalid hours.\n",
      "Skipping update for document ID                   67c9a9938c4ae1c3ac1c7e69 due to empty or                     invalid hours.\n",
      "Skipping update for document ID                   67c9a9938c4ae1c3ac1c7e87 due to empty or                     invalid hours.\n",
      "Skipping update for document ID                   67c9a9938c4ae1c3ac1c7e89 due to empty or                     invalid hours.\n",
      "Skipping update for document ID                   67c9a9938c4ae1c3ac1c7e95 due to empty or                     invalid hours.\n",
      "Skipping update for document ID                   67c9a9938c4ae1c3ac1c7fcf due to empty or                     invalid hours.\n",
      "Skipping update for document ID                   67c9a9938c4ae1c3ac1c800f due to empty or                     invalid hours.\n",
      "Skipping update for document ID                   67c9a9938c4ae1c3ac1c802d due to empty or                     invalid hours.\n",
      "Skipping update for document ID                   67c9a9938c4ae1c3ac1c8045 due to empty or                     invalid hours.\n",
      "Skipping update for document ID                   67c9a9938c4ae1c3ac1c806e due to empty or                     invalid hours.\n",
      "Skipping update for document ID                   67c9a9938c4ae1c3ac1c80f3 due to empty or                     invalid hours.\n",
      "Skipping update for document ID                   67c9a9938c4ae1c3ac1c8138 due to empty or                     invalid hours.\n",
      "Skipping update for document ID                   67c9a9938c4ae1c3ac1c822a due to empty or                     invalid hours.\n",
      "Skipping update for document ID                   67c9a9938c4ae1c3ac1c822d due to empty or                     invalid hours.\n",
      "Skipping update for document ID                   67c9a9938c4ae1c3ac1c82b5 due to empty or                     invalid hours.\n",
      "Skipping update for document ID                   67c9a9938c4ae1c3ac1c82f7 due to empty or                     invalid hours.\n",
      "Skipping update for document ID                   67c9a9938c4ae1c3ac1c8334 due to empty or                     invalid hours.\n",
      "Skipping update for document ID                   67c9a9938c4ae1c3ac1c8384 due to empty or                     invalid hours.\n",
      "Skipping update for document ID                   67c9a9938c4ae1c3ac1c8387 due to empty or                     invalid hours.\n",
      "Skipping update for document ID                   67c9a9938c4ae1c3ac1c83be due to empty or                     invalid hours.\n",
      "Skipping update for document ID                   67c9a9938c4ae1c3ac1c8404 due to empty or                     invalid hours.\n",
      "Skipping update for document ID                   67c9a9938c4ae1c3ac1c8455 due to empty or                     invalid hours.\n",
      "Skipping update for document ID                   67c9a9938c4ae1c3ac1c8486 due to empty or                     invalid hours.\n",
      "Skipping update for document ID                   67c9a9938c4ae1c3ac1c8487 due to empty or                     invalid hours.\n",
      "Skipping update for document ID                   67c9a9938c4ae1c3ac1c84c2 due to empty or                     invalid hours.\n",
      "Skipping update for document ID                   67c9a9938c4ae1c3ac1c84c3 due to empty or                     invalid hours.\n",
      "Skipping update for document ID                   67c9a9938c4ae1c3ac1c84dc due to empty or                     invalid hours.\n",
      "Skipping update for document ID                   67c9a9938c4ae1c3ac1c8509 due to empty or                     invalid hours.\n",
      "Skipping update for document ID                   67c9a9938c4ae1c3ac1c8514 due to empty or                     invalid hours.\n",
      "Skipping update for document ID                   67c9a9938c4ae1c3ac1c8586 due to empty or                     invalid hours.\n",
      "Skipping update for document ID                   67c9a9938c4ae1c3ac1c85b5 due to empty or                     invalid hours.\n",
      "Skipping update for document ID                   67c9a9938c4ae1c3ac1c8625 due to empty or                     invalid hours.\n",
      "Skipping update for document ID                   67c9a9938c4ae1c3ac1c8649 due to empty or                     invalid hours.\n",
      "Skipping update for document ID                   67c9a9948c4ae1c3ac1c8780 due to empty or                     invalid hours.\n",
      "Skipping update for document ID                   67c9a9948c4ae1c3ac1c87bd due to empty or                     invalid hours.\n",
      "Skipping update for document ID                   67c9a9948c4ae1c3ac1c8813 due to empty or                     invalid hours.\n",
      "Skipping update for document ID                   67c9a9948c4ae1c3ac1c8865 due to empty or                     invalid hours.\n",
      "Skipping update for document ID                   67c9a9948c4ae1c3ac1c8876 due to empty or                     invalid hours.\n",
      "Skipping update for document ID                   67c9a9948c4ae1c3ac1c88e0 due to empty or                     invalid hours.\n",
      "Skipping update for document ID                   67c9a9948c4ae1c3ac1c8949 due to empty or                     invalid hours.\n",
      "Skipping update for document ID                   67c9a9948c4ae1c3ac1c89f0 due to empty or                     invalid hours.\n",
      "Skipping update for document ID                   67c9a9948c4ae1c3ac1c8ac4 due to empty or                     invalid hours.\n",
      "Skipping update for document ID                   67c9a9948c4ae1c3ac1c8afe due to empty or                     invalid hours.\n",
      "Skipping update for document ID                   67c9a9948c4ae1c3ac1c8b04 due to empty or                     invalid hours.\n",
      "Skipping update for document ID                   67c9a9948c4ae1c3ac1c8b07 due to empty or                     invalid hours.\n",
      "Skipping update for document ID                   67c9a9948c4ae1c3ac1c8b65 due to empty or                     invalid hours.\n",
      "Skipping update for document ID                   67c9a9948c4ae1c3ac1c8bc8 due to empty or                     invalid hours.\n",
      "Skipping update for document ID                   67c9a9948c4ae1c3ac1c8c89 due to empty or                     invalid hours.\n",
      "Skipping update for document ID                   67c9a9948c4ae1c3ac1c8da9 due to empty or                     invalid hours.\n",
      "Skipping update for document ID                   67c9a9948c4ae1c3ac1c8db9 due to empty or                     invalid hours.\n",
      "Skipping update for document ID                   67c9a9948c4ae1c3ac1c8dbe due to empty or                     invalid hours.\n",
      "Skipping update for document ID                   67c9a9948c4ae1c3ac1c8dce due to empty or                     invalid hours.\n",
      "Skipping update for document ID                   67c9a9948c4ae1c3ac1c8dda due to empty or                     invalid hours.\n",
      "Skipping update for document ID                   67c9a9948c4ae1c3ac1c8de2 due to empty or                     invalid hours.\n",
      "Skipping update for document ID                   67c9a9948c4ae1c3ac1c8def due to empty or                     invalid hours.\n",
      "Skipping update for document ID                   67c9a9948c4ae1c3ac1c8dfd due to empty or                     invalid hours.\n",
      "Skipping update for document ID                   67c9a9948c4ae1c3ac1c8e13 due to empty or                     invalid hours.\n",
      "Skipping update for document ID                   67c9a9948c4ae1c3ac1c8e9b due to empty or                     invalid hours.\n",
      "Skipping update for document ID                   67c9a9948c4ae1c3ac1c8faa due to empty or                     invalid hours.\n",
      "Skipping update for document ID                   67c9a9948c4ae1c3ac1c8fba due to empty or                     invalid hours.\n",
      "Skipping update for document ID                   67c9a9948c4ae1c3ac1c9088 due to empty or                     invalid hours.\n",
      "Skipping update for document ID                   67c9a9948c4ae1c3ac1c90ac due to empty or                     invalid hours.\n",
      "Skipping update for document ID                   67c9a9948c4ae1c3ac1c90c5 due to empty or                     invalid hours.\n",
      "Skipping update for document ID                   67c9a9948c4ae1c3ac1c90ce due to empty or                     invalid hours.\n",
      "Skipping update for document ID                   67c9a9948c4ae1c3ac1c9162 due to empty or                     invalid hours.\n",
      "Skipping update for document ID                   67c9a9948c4ae1c3ac1c9169 due to empty or                     invalid hours.\n",
      "Skipping update for document ID                   67c9a9948c4ae1c3ac1c919b due to empty or                     invalid hours.\n",
      "Skipping update for document ID                   67c9a9948c4ae1c3ac1c9204 due to empty or                     invalid hours.\n",
      "Skipping update for document ID                   67c9a9948c4ae1c3ac1c922d due to empty or                     invalid hours.\n",
      "Skipping update for document ID                   67c9a9958c4ae1c3ac1c924c due to empty or                     invalid hours.\n",
      "Skipping update for document ID                   67c9a9958c4ae1c3ac1c9299 due to empty or                     invalid hours.\n",
      "Skipping update for document ID                   67c9a9958c4ae1c3ac1c9359 due to empty or                     invalid hours.\n",
      "Skipping update for document ID                   67c9a9958c4ae1c3ac1c93a7 due to empty or                     invalid hours.\n",
      "Skipping update for document ID                   67c9a9958c4ae1c3ac1c93ab due to empty or                     invalid hours.\n",
      "Skipping update for document ID                   67c9a9958c4ae1c3ac1c93f9 due to empty or                     invalid hours.\n",
      "Skipping update for document ID                   67c9a9958c4ae1c3ac1c941b due to empty or                     invalid hours.\n",
      "Skipping update for document ID                   67c9a9958c4ae1c3ac1c959e due to empty or                     invalid hours.\n",
      "Skipping update for document ID                   67c9a9958c4ae1c3ac1c95a2 due to empty or                     invalid hours.\n",
      "Skipping update for document ID                   67c9a9958c4ae1c3ac1c95be due to empty or                     invalid hours.\n",
      "Skipping update for document ID                   67c9a9958c4ae1c3ac1c95d1 due to empty or                     invalid hours.\n",
      "Skipping update for document ID                   67c9a9958c4ae1c3ac1c95e4 due to empty or                     invalid hours.\n",
      "Skipping update for document ID                   67c9a9958c4ae1c3ac1c964c due to empty or                     invalid hours.\n",
      "Skipping update for document ID                   67c9a9958c4ae1c3ac1c96ce due to empty or                     invalid hours.\n",
      "Skipping update for document ID                   67c9a9958c4ae1c3ac1c977e due to empty or                     invalid hours.\n",
      "Skipping update for document ID                   67c9a9958c4ae1c3ac1c97ae due to empty or                     invalid hours.\n",
      "Skipping update for document ID                   67c9a9958c4ae1c3ac1c97b2 due to empty or                     invalid hours.\n",
      "Skipping update for document ID                   67c9a9958c4ae1c3ac1c9807 due to empty or                     invalid hours.\n",
      "Skipping update for document ID                   67c9a9958c4ae1c3ac1c9809 due to empty or                     invalid hours.\n",
      "Skipping update for document ID                   67c9a9958c4ae1c3ac1c9851 due to empty or                     invalid hours.\n",
      "Skipping update for document ID                   67c9a9958c4ae1c3ac1c9858 due to empty or                     invalid hours.\n",
      "Skipping update for document ID                   67c9a9958c4ae1c3ac1c98d0 due to empty or                     invalid hours.\n",
      "Skipping update for document ID                   67c9a9958c4ae1c3ac1c990f due to empty or                     invalid hours.\n",
      "Skipping update for document ID                   67c9a9958c4ae1c3ac1c995f due to empty or                     invalid hours.\n",
      "Skipping update for document ID                   67c9a9958c4ae1c3ac1c9a75 due to empty or                     invalid hours.\n",
      "Skipping update for document ID                   67c9a9958c4ae1c3ac1c9ace due to empty or                     invalid hours.\n",
      "Skipping update for document ID                   67c9a9958c4ae1c3ac1c9b15 due to empty or                     invalid hours.\n",
      "Skipping update for document ID                   67c9a9958c4ae1c3ac1c9b1a due to empty or                     invalid hours.\n",
      "Skipping update for document ID                   67c9a9958c4ae1c3ac1c9bee due to empty or                     invalid hours.\n",
      "Skipping update for document ID                   67c9a9958c4ae1c3ac1c9c03 due to empty or                     invalid hours.\n",
      "Skipping update for document ID                   67c9a9958c4ae1c3ac1c9caf due to empty or                     invalid hours.\n",
      "Skipping update for document ID                   67c9a9958c4ae1c3ac1c9d4b due to empty or                     invalid hours.\n",
      "Skipping update for document ID                   67c9a9958c4ae1c3ac1c9d98 due to empty or                     invalid hours.\n",
      "Skipping update for document ID                   67c9a9958c4ae1c3ac1c9d9a due to empty or                     invalid hours.\n",
      "Skipping update for document ID                   67c9a9968c4ae1c3ac1c9e03 due to empty or                     invalid hours.\n",
      "Skipping update for document ID                   67c9a9968c4ae1c3ac1c9e35 due to empty or                     invalid hours.\n",
      "Skipping update for document ID                   67c9a9968c4ae1c3ac1c9e6a due to empty or                     invalid hours.\n",
      "Skipping update for document ID                   67c9a9968c4ae1c3ac1c9e6c due to empty or                     invalid hours.\n",
      "Skipping update for document ID                   67c9a9968c4ae1c3ac1c9e6d due to empty or                     invalid hours.\n",
      "Skipping update for document ID                   67c9a9968c4ae1c3ac1c9e74 due to empty or                     invalid hours.\n",
      "Skipping update for document ID                   67c9a9968c4ae1c3ac1c9ecf due to empty or                     invalid hours.\n",
      "Skipping update for document ID                   67c9a9968c4ae1c3ac1c9f6d due to empty or                     invalid hours.\n",
      "Skipping update for document ID                   67c9a9968c4ae1c3ac1ca0b8 due to empty or                     invalid hours.\n",
      "Skipping update for document ID                   67c9a9968c4ae1c3ac1ca0f1 due to empty or                     invalid hours.\n",
      "Skipping update for document ID                   67c9a9968c4ae1c3ac1ca138 due to empty or                     invalid hours.\n",
      "Skipping update for document ID                   67c9a9968c4ae1c3ac1ca16f due to empty or                     invalid hours.\n",
      "Skipping update for document ID                   67c9a9968c4ae1c3ac1ca1f0 due to empty or                     invalid hours.\n",
      "Skipping update for document ID                   67c9a9968c4ae1c3ac1ca284 due to empty or                     invalid hours.\n",
      "Skipping update for document ID                   67c9a9968c4ae1c3ac1ca389 due to empty or                     invalid hours.\n",
      "Skipping update for document ID                   67c9a9968c4ae1c3ac1ca423 due to empty or                     invalid hours.\n",
      "Skipping update for document ID                   67c9a9968c4ae1c3ac1ca460 due to empty or                     invalid hours.\n",
      "Skipping update for document ID                   67c9a9968c4ae1c3ac1ca467 due to empty or                     invalid hours.\n",
      "Skipping update for document ID                   67c9a9978c4ae1c3ac1ca5e1 due to empty or                     invalid hours.\n",
      "Skipping update for document ID                   67c9a9978c4ae1c3ac1ca640 due to empty or                     invalid hours.\n",
      "Skipping update for document ID                   67c9a9978c4ae1c3ac1ca670 due to empty or                     invalid hours.\n",
      "Skipping update for document ID                   67c9a9978c4ae1c3ac1ca6fe due to empty or                     invalid hours.\n",
      "Skipping update for document ID                   67c9a9978c4ae1c3ac1ca722 due to empty or                     invalid hours.\n",
      "Skipping update for document ID                   67c9a9978c4ae1c3ac1ca723 due to empty or                     invalid hours.\n",
      "Skipping update for document ID                   67c9a9978c4ae1c3ac1ca72e due to empty or                     invalid hours.\n",
      "Skipping update for document ID                   67c9a9978c4ae1c3ac1ca751 due to empty or                     invalid hours.\n",
      "Skipping update for document ID                   67c9a9978c4ae1c3ac1ca75c due to empty or                     invalid hours.\n",
      "Skipping update for document ID                   67c9a9978c4ae1c3ac1ca8ab due to empty or                     invalid hours.\n",
      "Skipping update for document ID                   67c9a9978c4ae1c3ac1ca8dd due to empty or                     invalid hours.\n",
      "Skipping update for document ID                   67c9a9978c4ae1c3ac1ca930 due to empty or                     invalid hours.\n",
      "Skipping update for document ID                   67c9a9978c4ae1c3ac1caa54 due to empty or                     invalid hours.\n",
      "Skipping update for document ID                   67c9a9978c4ae1c3ac1caa6f due to empty or                     invalid hours.\n",
      "Skipping update for document ID                   67c9a9978c4ae1c3ac1caa77 due to empty or                     invalid hours.\n",
      "Skipping update for document ID                   67c9a9978c4ae1c3ac1caabc due to empty or                     invalid hours.\n",
      "Skipping update for document ID                   67c9a9978c4ae1c3ac1cab43 due to empty or                     invalid hours.\n",
      "Skipping update for document ID                   67c9a9978c4ae1c3ac1cab6d due to empty or                     invalid hours.\n",
      "Skipping update for document ID                   67c9a9978c4ae1c3ac1cab8b due to empty or                     invalid hours.\n",
      "Skipping update for document ID                   67c9a9978c4ae1c3ac1cac14 due to empty or                     invalid hours.\n",
      "Skipping update for document ID                   67c9a9978c4ae1c3ac1cac1f due to empty or                     invalid hours.\n",
      "Skipping update for document ID                   67c9a9978c4ae1c3ac1cac51 due to empty or                     invalid hours.\n",
      "Skipping update for document ID                   67c9a9978c4ae1c3ac1cac92 due to empty or                     invalid hours.\n",
      "Skipping update for document ID                   67c9a9978c4ae1c3ac1cacb6 due to empty or                     invalid hours.\n",
      "Skipping update for document ID                   67c9a9978c4ae1c3ac1cacc9 due to empty or                     invalid hours.\n",
      "Skipping update for document ID                   67c9a9978c4ae1c3ac1cace9 due to empty or                     invalid hours.\n",
      "Skipping update for document ID                   67c9a9978c4ae1c3ac1cad76 due to empty or                     invalid hours.\n",
      "Skipping update for document ID                   67c9a9978c4ae1c3ac1cad92 due to empty or                     invalid hours.\n",
      "Skipping update for document ID                   67c9a9978c4ae1c3ac1cadcd due to empty or                     invalid hours.\n",
      "Skipping update for document ID                   67c9a9978c4ae1c3ac1cae01 due to empty or                     invalid hours.\n",
      "Skipping update for document ID                   67c9a9978c4ae1c3ac1cae5c due to empty or                     invalid hours.\n",
      "Skipping update for document ID                   67c9a9978c4ae1c3ac1cae6c due to empty or                     invalid hours.\n",
      "Skipping update for document ID                   67c9a9978c4ae1c3ac1cae7e due to empty or                     invalid hours.\n",
      "Skipping update for document ID                   67c9a9978c4ae1c3ac1caf82 due to empty or                     invalid hours.\n",
      "Skipping update for document ID                   67c9a9978c4ae1c3ac1cafb5 due to empty or                     invalid hours.\n",
      "Skipping update for document ID                   67c9a9978c4ae1c3ac1cafd2 due to empty or                     invalid hours.\n",
      "Skipping update for document ID                   67c9a9978c4ae1c3ac1cb00d due to empty or                     invalid hours.\n",
      "Skipping update for document ID                   67c9a9978c4ae1c3ac1cb051 due to empty or                     invalid hours.\n",
      "Skipping update for document ID                   67c9a9978c4ae1c3ac1cb0d9 due to empty or                     invalid hours.\n",
      "Skipping update for document ID                   67c9a9978c4ae1c3ac1cb108 due to empty or                     invalid hours.\n",
      "Skipping update for document ID                   67c9a9978c4ae1c3ac1cb110 due to empty or                     invalid hours.\n",
      "Skipping update for document ID                   67c9a9978c4ae1c3ac1cb114 due to empty or                     invalid hours.\n",
      "Skipping update for document ID                   67c9a9988c4ae1c3ac1cb17d due to empty or                     invalid hours.\n",
      "Skipping update for document ID                   67c9a9988c4ae1c3ac1cb1a3 due to empty or                     invalid hours.\n",
      "Skipping update for document ID                   67c9a9988c4ae1c3ac1cb1aa due to empty or                     invalid hours.\n",
      "Skipping update for document ID                   67c9a9988c4ae1c3ac1cb1ab due to empty or                     invalid hours.\n",
      "Skipping update for document ID                   67c9a9988c4ae1c3ac1cb1fc due to empty or                     invalid hours.\n",
      "Skipping update for document ID                   67c9a9988c4ae1c3ac1cb26c due to empty or                     invalid hours.\n",
      "Skipping update for document ID                   67c9a9988c4ae1c3ac1cb386 due to empty or                     invalid hours.\n",
      "Skipping update for document ID                   67c9a9988c4ae1c3ac1cb3dd due to empty or                     invalid hours.\n",
      "Skipping update for document ID                   67c9a9988c4ae1c3ac1cb417 due to empty or                     invalid hours.\n",
      "Skipping update for document ID                   67c9a9988c4ae1c3ac1cb485 due to empty or                     invalid hours.\n",
      "Skipping update for document ID                   67c9a9988c4ae1c3ac1cb54f due to empty or                     invalid hours.\n",
      "Skipping update for document ID                   67c9a9988c4ae1c3ac1cb555 due to empty or                     invalid hours.\n",
      "Skipping update for document ID                   67c9a9988c4ae1c3ac1cb55b due to empty or                     invalid hours.\n",
      "Skipping update for document ID                   67c9a9988c4ae1c3ac1cb69e due to empty or                     invalid hours.\n",
      "Skipping update for document ID                   67c9a9988c4ae1c3ac1cb722 due to empty or                     invalid hours.\n",
      "Skipping update for document ID                   67c9a9988c4ae1c3ac1cb790 due to empty or                     invalid hours.\n",
      "Skipping update for document ID                   67c9a9988c4ae1c3ac1cb7ac due to empty or                     invalid hours.\n",
      "Skipping update for document ID                   67c9a9988c4ae1c3ac1cb7d2 due to empty or                     invalid hours.\n",
      "Skipping update for document ID                   67c9a9988c4ae1c3ac1cb7da due to empty or                     invalid hours.\n",
      "Skipping update for document ID                   67c9a9988c4ae1c3ac1cb869 due to empty or                     invalid hours.\n",
      "Skipping update for document ID                   67c9a9988c4ae1c3ac1cb88a due to empty or                     invalid hours.\n",
      "Skipping update for document ID                   67c9a9988c4ae1c3ac1cb941 due to empty or                     invalid hours.\n",
      "Skipping update for document ID                   67c9a9988c4ae1c3ac1cb942 due to empty or                     invalid hours.\n",
      "Skipping update for document ID                   67c9a9988c4ae1c3ac1cb964 due to empty or                     invalid hours.\n",
      "Skipping update for document ID                   67c9a9988c4ae1c3ac1cba40 due to empty or                     invalid hours.\n",
      "Skipping update for document ID                   67c9a9988c4ae1c3ac1cbb0d due to empty or                     invalid hours.\n",
      "Skipping update for document ID                   67c9a9988c4ae1c3ac1cbb3d due to empty or                     invalid hours.\n",
      "Skipping update for document ID                   67c9a9988c4ae1c3ac1cbb6a due to empty or                     invalid hours.\n",
      "Skipping update for document ID                   67c9a9988c4ae1c3ac1cbd0d due to empty or                     invalid hours.\n",
      "Skipping update for document ID                   67c9a9998c4ae1c3ac1cbd53 due to empty or                     invalid hours.\n",
      "Skipping update for document ID                   67c9a9998c4ae1c3ac1cbe08 due to empty or                     invalid hours.\n",
      "Skipping update for document ID                   67c9a9998c4ae1c3ac1cbe66 due to empty or                     invalid hours.\n",
      "Skipping update for document ID                   67c9a9998c4ae1c3ac1cbec8 due to empty or                     invalid hours.\n",
      "Skipping update for document ID                   67c9a9998c4ae1c3ac1cbfa2 due to empty or                     invalid hours.\n",
      "Skipping update for document ID                   67c9a9998c4ae1c3ac1cc02c due to empty or                     invalid hours.\n",
      "Skipping update for document ID                   67c9a9998c4ae1c3ac1cc0cc due to empty or                     invalid hours.\n",
      "Skipping update for document ID                   67c9a9998c4ae1c3ac1cc0fc due to empty or                     invalid hours.\n",
      "Skipping update for document ID                   67c9a9998c4ae1c3ac1cc154 due to empty or                     invalid hours.\n",
      "Skipping update for document ID                   67c9a9998c4ae1c3ac1cc15f due to empty or                     invalid hours.\n",
      "Skipping update for document ID                   67c9a9998c4ae1c3ac1cc17e due to empty or                     invalid hours.\n",
      "Skipping update for document ID                   67c9a9998c4ae1c3ac1cc1bb due to empty or                     invalid hours.\n",
      "Skipping update for document ID                   67c9a9998c4ae1c3ac1cc21d due to empty or                     invalid hours.\n",
      "Skipping update for document ID                   67c9a9998c4ae1c3ac1cc2a1 due to empty or                     invalid hours.\n",
      "Skipping update for document ID                   67c9a9998c4ae1c3ac1cc2ea due to empty or                     invalid hours.\n",
      "Skipping update for document ID                   67c9a9998c4ae1c3ac1cc33a due to empty or                     invalid hours.\n",
      "Skipping update for document ID                   67c9a9998c4ae1c3ac1cc33b due to empty or                     invalid hours.\n",
      "Skipping update for document ID                   67c9a9998c4ae1c3ac1cc3c2 due to empty or                     invalid hours.\n",
      "Skipping update for document ID                   67c9a9998c4ae1c3ac1cc3d2 due to empty or                     invalid hours.\n",
      "Skipping update for document ID                   67c9a9998c4ae1c3ac1cc45c due to empty or                     invalid hours.\n",
      "Skipping update for document ID                   67c9a9998c4ae1c3ac1cc45d due to empty or                     invalid hours.\n",
      "Skipping update for document ID                   67c9a9998c4ae1c3ac1cc46d due to empty or                     invalid hours.\n",
      "Skipping update for document ID                   67c9a9998c4ae1c3ac1cc47b due to empty or                     invalid hours.\n",
      "Skipping update for document ID                   67c9a9998c4ae1c3ac1cc47c due to empty or                     invalid hours.\n",
      "Skipping update for document ID                   67c9a9998c4ae1c3ac1cc4ca due to empty or                     invalid hours.\n",
      "Skipping update for document ID                   67c9a9998c4ae1c3ac1cc4da due to empty or                     invalid hours.\n",
      "Skipping update for document ID                   67c9a9998c4ae1c3ac1cc4ed due to empty or                     invalid hours.\n",
      "Skipping update for document ID                   67c9a99a8c4ae1c3ac1cc57d due to empty or                     invalid hours.\n",
      "Skipping update for document ID                   67c9a99a8c4ae1c3ac1cc59c due to empty or                     invalid hours.\n",
      "Skipping update for document ID                   67c9a99a8c4ae1c3ac1cc6c5 due to empty or                     invalid hours.\n",
      "Skipping update for document ID                   67c9a99a8c4ae1c3ac1cc6de due to empty or                     invalid hours.\n",
      "Skipping update for document ID                   67c9a99a8c4ae1c3ac1cc73a due to empty or                     invalid hours.\n",
      "Skipping update for document ID                   67c9a99a8c4ae1c3ac1cc73e due to empty or                     invalid hours.\n",
      "Skipping update for document ID                   67c9a99a8c4ae1c3ac1cc74d due to empty or                     invalid hours.\n",
      "Skipping update for document ID                   67c9a99a8c4ae1c3ac1cc768 due to empty or                     invalid hours.\n",
      "Skipping update for document ID                   67c9a99a8c4ae1c3ac1cc7ae due to empty or                     invalid hours.\n",
      "Skipping update for document ID                   67c9a99a8c4ae1c3ac1cc7b4 due to empty or                     invalid hours.\n",
      "Skipping update for document ID                   67c9a99a8c4ae1c3ac1cc844 due to empty or                     invalid hours.\n",
      "Skipping update for document ID                   67c9a99a8c4ae1c3ac1cc854 due to empty or                     invalid hours.\n",
      "Skipping update for document ID                   67c9a99a8c4ae1c3ac1cc861 due to empty or                     invalid hours.\n",
      "Skipping update for document ID                   67c9a99a8c4ae1c3ac1cc871 due to empty or                     invalid hours.\n",
      "Skipping update for document ID                   67c9a99a8c4ae1c3ac1cc87c due to empty or                     invalid hours.\n",
      "Skipping update for document ID                   67c9a99a8c4ae1c3ac1cc8b7 due to empty or                     invalid hours.\n",
      "Skipping update for document ID                   67c9a99a8c4ae1c3ac1cc8fe due to empty or                     invalid hours.\n",
      "Skipping update for document ID                   67c9a99a8c4ae1c3ac1cc944 due to empty or                     invalid hours.\n",
      "Skipping update for document ID                   67c9a99a8c4ae1c3ac1cc952 due to empty or                     invalid hours.\n",
      "Skipping update for document ID                   67c9a99a8c4ae1c3ac1cca21 due to empty or                     invalid hours.\n",
      "Skipping update for document ID                   67c9a99a8c4ae1c3ac1cca92 due to empty or                     invalid hours.\n",
      "Skipping update for document ID                   67c9a99a8c4ae1c3ac1ccada due to empty or                     invalid hours.\n",
      "All documents processed. 263       documents were not updated.\n"
     ]
    }
   ],
   "source": [
    "# Initialize a counter for documents not updated\n",
    "not_updated_count = 0\n",
    "\n",
    "# Process all documents with the \"hours\" field\n",
    "for doc in meta.find({\"hours\": {\"$exists\": True}}):\n",
    "    try:\n",
    "        # Transform hours\n",
    "        updated_hours = convert_hours(doc[\"hours\"])  \n",
    "        \n",
    "        if updated_hours:\n",
    "            # Only update if we have valid hours  \n",
    "            meta.update_one({\"_id\": doc[\"_id\"]}, \n",
    "                            {\"$set\": {\"hours\": updated_hours}\n",
    "                             })\n",
    "            #print(f\"Updated document ID: {doc['_id']}\")\n",
    "        else:\n",
    "            # Increment the counter if hours \n",
    "            # are empty or invalid\n",
    "            not_updated_count += 1\n",
    "            print(f\"Skipping update for document ID \\\n",
    "                  {doc['_id']} due to empty or \\\n",
    "                    invalid hours.\")\n",
    "\n",
    "    except Exception as e:\n",
    "        print(f\"Error processing document ID\\\n",
    "               {doc['_id']}: {e}\")\n",
    "        # Increment count on exception\n",
    "        not_updated_count += 1  \n",
    "\n",
    "print(f\"All documents processed. {not_updated_count}\\\n",
    "       documents were not updated.\")\n"
   ]
  },
  {
   "cell_type": "markdown",
   "metadata": {},
   "source": [
    "Show a restaurant with the new **'hour'** format"
   ]
  },
  {
   "cell_type": "code",
   "execution_count": 48,
   "metadata": {},
   "outputs": [
    {
     "name": "stdout",
     "output_type": "stream",
     "text": [
      "{'MISC': {'Accessibility': ['Wheelchair accessible entrance'],\n",
      "          'Amenities': ['Good for kids'],\n",
      "          'Atmosphere': ['Casual'],\n",
      "          'Crowd': ['Groups', 'Tourists'],\n",
      "          'Offerings': ['Comfort food', 'Quick bite'],\n",
      "          'Payments': ['NFC mobile payments'],\n",
      "          'Popular for': ['Lunch', 'Solo dining'],\n",
      "          'Service options': ['Outdoor seating', 'Takeout', 'Delivery']},\n",
      " '_id': ObjectId('67c9a9928c4ae1c3ac1c76e1'),\n",
      " 'address': 'Hale Pops, 55-370 Kamehameha Hwy, Laie, HI 96762',\n",
      " 'avg_rating': 4.4,\n",
      " 'category': ['Restaurant'],\n",
      " 'description': None,\n",
      " 'gmap_id': '0x7c00456eecad3111:0x8217f9600c51f33',\n",
      " 'hours': [{'close_time': '20:00', 'day': 'Thursday', 'open_time': '11:00'},\n",
      "           {'close_time': '20:00', 'day': 'Friday', 'open_time': '11:00'},\n",
      "           {'close_time': '20:00', 'day': 'Saturday', 'open_time': '11:00'},\n",
      "           {'close_time': '99:99', 'day': 'Sunday', 'open_time': '99:99'},\n",
      "           {'close_time': '20:00', 'day': 'Monday', 'open_time': '11:00'},\n",
      "           {'close_time': '20:00', 'day': 'Tuesday', 'open_time': '11:00'},\n",
      "           {'close_time': '20:00', 'day': 'Wednesday', 'open_time': '11:00'}],\n",
      " 'latitude': 21.637795699999998,\n",
      " 'location': {'coordinates': [-157.9207142, 21.637795699999998],\n",
      "              'type': 'Point'},\n",
      " 'longitude': -157.9207142,\n",
      " 'name': 'Hale Pops',\n",
      " 'num_of_reviews': 18,\n",
      " 'price': None,\n",
      " 'state': 'Closed ⋅ Opens 11AM'}\n"
     ]
    }
   ],
   "source": [
    "example = meta.find_one({})\n",
    "\n",
    "# Print the document if found\n",
    "if example:\n",
    "    from pprint import pprint  # Pretty print for better readability\n",
    "    pprint(example)\n"
   ]
  },
  {
   "cell_type": "markdown",
   "metadata": {},
   "source": [
    "In order to ease the filtering of restaurants based on time (hour of the day) let's convert all the opening hours in seconds from midnight."
   ]
  },
  {
   "cell_type": "code",
   "execution_count": 49,
   "metadata": {},
   "outputs": [
    {
     "name": "stdout",
     "output_type": "stream",
     "text": [
      "84600\n",
      "38700\n",
      "53220\n"
     ]
    }
   ],
   "source": [
    "def time_to_seconds(time_str):\n",
    "    # If it's already an integer, return as is\n",
    "    if isinstance(time_str, int):  \n",
    "        return time_str\n",
    "    \n",
    "    # Handle unexpected types\n",
    "    if not isinstance(time_str, str):  \n",
    "        return None  \n",
    "\n",
    "    # Split the time string by \":\"\n",
    "    time_parts = time_str.split(\":\")\n",
    "    \n",
    "    # Check if the string is correctly \n",
    "    # formatted (should have exactly two parts)\n",
    "    if len(time_parts) == 2:\n",
    "        try:\n",
    "            # Convert hours and minutes to integers\n",
    "            hours = int(time_parts[0])\n",
    "            minutes = int(time_parts[1])\n",
    "            \n",
    "            # Calculate total seconds from midnight\n",
    "            return hours * 3600 + minutes * 60\n",
    "        except ValueError:\n",
    "            # Handle case where hours or \n",
    "            # minutes are not integers\n",
    "            return None  \n",
    "    else:\n",
    "        # Handle invalid time format (not \"HH:MM\")\n",
    "        return None  \n",
    "    \n",
    "\n",
    "print(time_to_seconds(\"23:30\"))  # Should print 84600 \n",
    "print(time_to_seconds(\"10:45\"))  # Should print 38700 \n",
    "print(time_to_seconds(\"14:47\"))  # Should print 53220\n"
   ]
  },
  {
   "cell_type": "markdown",
   "metadata": {},
   "source": [
    "Loop for converting opening and closing time of all restaurants:"
   ]
  },
  {
   "cell_type": "code",
   "execution_count": 50,
   "metadata": {},
   "outputs": [
    {
     "name": "stdout",
     "output_type": "stream",
     "text": [
      "All documents updated successfully!\n"
     ]
    }
   ],
   "source": [
    "# Find all documents\n",
    "for doc in meta.find({}):\n",
    "    # Get the 'hours' field safely  \n",
    "    hours_list = doc.get(\"hours\")\n",
    "\n",
    "    # Skip if 'hours' is missing or not a list\n",
    "    if not isinstance(hours_list, list):  \n",
    "        continue\n",
    "\n",
    "    updated_hours = []\n",
    "\n",
    "    for entry in hours_list:\n",
    "        # Ensure each entry is a dictionary  \n",
    "        if not isinstance(entry, dict):  \n",
    "            continue\n",
    "\n",
    "        updated_hours.append({\n",
    "            \"day\": entry.get(\"day\", \"\"),  \n",
    "            \"open_time\": time_to_seconds(\n",
    "                entry.get(\"open_time\", \"99:99\")),  \n",
    "            \"close_time\": time_to_seconds(\n",
    "                entry.get(\"close_time\", \"99:99\"))  \n",
    "        })\n",
    "\n",
    "    if updated_hours:\n",
    "        meta.update_one({\"_id\": doc[\"_id\"]}, \n",
    "                        {\"$set\": {\"hours\": updated_hours}})\n",
    "\n",
    "print(\"All documents updated successfully!\")\n"
   ]
  },
  {
   "cell_type": "code",
   "execution_count": 51,
   "metadata": {},
   "outputs": [
    {
     "name": "stdout",
     "output_type": "stream",
     "text": [
      "{'MISC': {'Accessibility': ['Wheelchair accessible entrance'],\n",
      "          'Amenities': ['Good for kids'],\n",
      "          'Atmosphere': ['Casual'],\n",
      "          'Crowd': ['Groups', 'Tourists'],\n",
      "          'Offerings': ['Comfort food', 'Quick bite'],\n",
      "          'Payments': ['NFC mobile payments'],\n",
      "          'Popular for': ['Lunch', 'Solo dining'],\n",
      "          'Service options': ['Outdoor seating', 'Takeout', 'Delivery']},\n",
      " '_id': ObjectId('67c9a9928c4ae1c3ac1c76e1'),\n",
      " 'address': 'Hale Pops, 55-370 Kamehameha Hwy, Laie, HI 96762',\n",
      " 'avg_rating': 4.4,\n",
      " 'category': ['Restaurant'],\n",
      " 'description': None,\n",
      " 'gmap_id': '0x7c00456eecad3111:0x8217f9600c51f33',\n",
      " 'hours': [{'close_time': 72000, 'day': 'Thursday', 'open_time': 39600},\n",
      "           {'close_time': 72000, 'day': 'Friday', 'open_time': 39600},\n",
      "           {'close_time': 72000, 'day': 'Saturday', 'open_time': 39600},\n",
      "           {'close_time': 362340, 'day': 'Sunday', 'open_time': 362340},\n",
      "           {'close_time': 72000, 'day': 'Monday', 'open_time': 39600},\n",
      "           {'close_time': 72000, 'day': 'Tuesday', 'open_time': 39600},\n",
      "           {'close_time': 72000, 'day': 'Wednesday', 'open_time': 39600}],\n",
      " 'latitude': 21.637795699999998,\n",
      " 'location': {'coordinates': [-157.9207142, 21.637795699999998],\n",
      "              'type': 'Point'},\n",
      " 'longitude': -157.9207142,\n",
      " 'name': 'Hale Pops',\n",
      " 'num_of_reviews': 18,\n",
      " 'price': None,\n",
      " 'state': 'Closed ⋅ Opens 11AM'}\n"
     ]
    }
   ],
   "source": [
    "example = meta.find_one({})\n",
    "\n",
    "# Print the document if found\n",
    "if example:\n",
    "    from pprint import pprint  # Pretty print for better readability\n",
    "    pprint(example)\n"
   ]
  }
 ],
 "metadata": {
  "kernelspec": {
   "display_name": "Python 3",
   "language": "python",
   "name": "python3"
  },
  "language_info": {
   "codemirror_mode": {
    "name": "ipython",
    "version": 3
   },
   "file_extension": ".py",
   "mimetype": "text/x-python",
   "name": "python",
   "nbconvert_exporter": "python",
   "pygments_lexer": "ipython3",
   "version": "3.8.10"
  }
 },
 "nbformat": 4,
 "nbformat_minor": 2
}
